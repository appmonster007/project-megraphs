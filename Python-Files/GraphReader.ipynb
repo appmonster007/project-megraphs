{
 "cells": [
  {
   "cell_type": "code",
   "execution_count": 18,
   "source": [
    "from scipy.io import mmread\r\n",
    "from numpy import linalg as LA\r\n",
    "import numpy as np\r\n",
    "karate = mmread('soc-karate.mtx')\r\n",
    "internet = mmread('tech-internet-as.mtx')"
   ],
   "outputs": [],
   "metadata": {}
  },
  {
   "cell_type": "code",
   "execution_count": 23,
   "source": [
    "karate = karate.toarray()\r\n",
    "int_arr=internet.toarray()"
   ],
   "outputs": [],
   "metadata": {}
  },
  {
   "cell_type": "code",
   "execution_count": 34,
   "source": [
    "w, v = LA.eig(int_arr)\r\n",
    "display(w.shape,v.shape)"
   ],
   "outputs": [
    {
     "output_type": "display_data",
     "data": {
      "text/plain": [
       "(40164,)"
      ]
     },
     "metadata": {}
    },
    {
     "output_type": "display_data",
     "data": {
      "text/plain": [
       "(40164, 40164)"
      ]
     },
     "metadata": {}
    }
   ],
   "metadata": {}
  },
  {
   "cell_type": "code",
   "execution_count": 35,
   "source": [
    "40164*40164*4/2**30"
   ],
   "outputs": [
    {
     "output_type": "execute_result",
     "data": {
      "text/plain": [
       "6.00944048166275"
      ]
     },
     "metadata": {},
     "execution_count": 35
    }
   ],
   "metadata": {}
  },
  {
   "cell_type": "code",
   "execution_count": null,
   "source": [],
   "outputs": [],
   "metadata": {}
  }
 ],
 "metadata": {
  "kernelspec": {
   "name": "python3",
   "display_name": "Python 3.9.6 64-bit"
  },
  "language_info": {
   "codemirror_mode": {
    "name": "ipython",
    "version": 3
   },
   "file_extension": ".py",
   "mimetype": "text/x-python",
   "name": "python",
   "nbconvert_exporter": "python",
   "pygments_lexer": "ipython3",
   "version": "3.9.6"
  },
  "interpreter": {
   "hash": "7706d00cdb259a29e57d9bbde8b99a36ab5b874edc733f1acb2572848daa1ec1"
  }
 },
 "nbformat": 4,
 "nbformat_minor": 5
}