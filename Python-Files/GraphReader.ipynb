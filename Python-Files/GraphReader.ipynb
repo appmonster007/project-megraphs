{
 "cells": [
  {
   "cell_type": "code",
   "execution_count": 16,
   "source": [
    "import scipy as sp\r\n",
    "import networkx as nx\r\n",
    "from scipy.io import mmread\r\n",
    "from numpy import linalg as LA\r\n",
    "import numpy as np\r\n",
    "karate = mmread('soc-karate.mtx')\r\n",
    "internet = mmread('tech-internet-as.mtx')"
   ],
   "outputs": [],
   "metadata": {}
  },
  {
   "cell_type": "code",
   "execution_count": 48,
   "source": [
    "G=nx.from_scipy_sparse_matrix(karate)\r\n",
    "#uncomment below to read internet graph instead\r\n",
    "# G=nx.from_scipy_sparse_matrix(internet)\r\n",
    "A = nx.adjacency_matrix(G)\r\n",
    "L = nx.laplacian_matrix(G)"
   ],
   "outputs": [],
   "metadata": {}
  },
  {
   "cell_type": "code",
   "execution_count": 52,
   "source": [
    "display(A)\r\n",
    "display(L)\r\n",
    "# display(G)\r\n",
    "print(G)"
   ],
   "outputs": [
    {
     "output_type": "display_data",
     "data": {
      "text/plain": [
       "<34x34 sparse matrix of type '<class 'numpy.float64'>'\n",
       "\twith 156 stored elements in Compressed Sparse Row format>"
      ]
     },
     "metadata": {}
    },
    {
     "output_type": "display_data",
     "data": {
      "text/plain": [
       "<34x34 sparse matrix of type '<class 'numpy.float64'>'\n",
       "\twith 190 stored elements in Compressed Sparse Row format>"
      ]
     },
     "metadata": {}
    },
    {
     "output_type": "stream",
     "name": "stdout",
     "text": [
      "Graph with 34 nodes and 78 edges\n"
     ]
    }
   ],
   "metadata": {}
  },
  {
   "cell_type": "code",
   "execution_count": 21,
   "source": [
    "#return a dictionary of nodes with their degree centrality normalized with max possible degree in the graph\r\n",
    "nx.degree_centrality(G)"
   ],
   "outputs": [
    {
     "output_type": "execute_result",
     "data": {
      "text/plain": [
       "{0: 0.48484848484848486,\n",
       " 1: 0.2727272727272727,\n",
       " 2: 0.30303030303030304,\n",
       " 3: 0.18181818181818182,\n",
       " 4: 0.09090909090909091,\n",
       " 5: 0.12121212121212122,\n",
       " 6: 0.12121212121212122,\n",
       " 7: 0.12121212121212122,\n",
       " 8: 0.15151515151515152,\n",
       " 9: 0.06060606060606061,\n",
       " 10: 0.09090909090909091,\n",
       " 11: 0.030303030303030304,\n",
       " 12: 0.06060606060606061,\n",
       " 13: 0.15151515151515152,\n",
       " 14: 0.06060606060606061,\n",
       " 15: 0.06060606060606061,\n",
       " 16: 0.06060606060606061,\n",
       " 17: 0.06060606060606061,\n",
       " 18: 0.06060606060606061,\n",
       " 19: 0.09090909090909091,\n",
       " 20: 0.06060606060606061,\n",
       " 21: 0.06060606060606061,\n",
       " 22: 0.06060606060606061,\n",
       " 23: 0.15151515151515152,\n",
       " 24: 0.09090909090909091,\n",
       " 25: 0.09090909090909091,\n",
       " 26: 0.06060606060606061,\n",
       " 27: 0.12121212121212122,\n",
       " 28: 0.09090909090909091,\n",
       " 29: 0.12121212121212122,\n",
       " 30: 0.12121212121212122,\n",
       " 31: 0.18181818181818182,\n",
       " 32: 0.36363636363636365,\n",
       " 33: 0.5151515151515151}"
      ]
     },
     "metadata": {},
     "execution_count": 21
    }
   ],
   "metadata": {}
  },
  {
   "cell_type": "code",
   "execution_count": 23,
   "source": [
    "#return a dictionary of nodes with their closeness centrality normalized to (n-1)/(|g|-1), n=no. of connected nodes to certain node, g is entire graph\r\n",
    "nx.closeness_centrality(G)"
   ],
   "outputs": [
    {
     "output_type": "execute_result",
     "data": {
      "text/plain": [
       "{0: 0.5689655172413793,\n",
       " 1: 0.4852941176470588,\n",
       " 2: 0.559322033898305,\n",
       " 3: 0.4647887323943662,\n",
       " 4: 0.3793103448275862,\n",
       " 5: 0.38372093023255816,\n",
       " 6: 0.38372093023255816,\n",
       " 7: 0.44,\n",
       " 8: 0.515625,\n",
       " 9: 0.4342105263157895,\n",
       " 10: 0.3793103448275862,\n",
       " 11: 0.36666666666666664,\n",
       " 12: 0.3707865168539326,\n",
       " 13: 0.515625,\n",
       " 14: 0.3707865168539326,\n",
       " 15: 0.3707865168539326,\n",
       " 16: 0.28448275862068967,\n",
       " 17: 0.375,\n",
       " 18: 0.3707865168539326,\n",
       " 19: 0.5,\n",
       " 20: 0.3707865168539326,\n",
       " 21: 0.375,\n",
       " 22: 0.3707865168539326,\n",
       " 23: 0.39285714285714285,\n",
       " 24: 0.375,\n",
       " 25: 0.375,\n",
       " 26: 0.3626373626373626,\n",
       " 27: 0.4583333333333333,\n",
       " 28: 0.4520547945205479,\n",
       " 29: 0.38372093023255816,\n",
       " 30: 0.4583333333333333,\n",
       " 31: 0.5409836065573771,\n",
       " 32: 0.515625,\n",
       " 33: 0.55}"
      ]
     },
     "metadata": {},
     "execution_count": 23
    }
   ],
   "metadata": {}
  },
  {
   "cell_type": "code",
   "execution_count": 25,
   "source": [
    "nx.betweenness_centrality(G)"
   ],
   "outputs": [
    {
     "output_type": "execute_result",
     "data": {
      "text/plain": [
       "{0: 0.43763528138528146,\n",
       " 1: 0.053936688311688304,\n",
       " 2: 0.14365680615680618,\n",
       " 3: 0.011909271284271283,\n",
       " 4: 0.0006313131313131313,\n",
       " 5: 0.02998737373737374,\n",
       " 6: 0.029987373737373736,\n",
       " 7: 0.0,\n",
       " 8: 0.05592682780182781,\n",
       " 9: 0.0008477633477633478,\n",
       " 10: 0.0006313131313131313,\n",
       " 11: 0.0,\n",
       " 12: 0.0,\n",
       " 13: 0.04586339586339586,\n",
       " 14: 0.0,\n",
       " 15: 0.0,\n",
       " 16: 0.0,\n",
       " 17: 0.0,\n",
       " 18: 0.0,\n",
       " 19: 0.03247504810004811,\n",
       " 20: 0.0,\n",
       " 21: 0.0,\n",
       " 22: 0.0,\n",
       " 23: 0.017613636363636363,\n",
       " 24: 0.0022095959595959595,\n",
       " 25: 0.0038404882154882154,\n",
       " 26: 0.0,\n",
       " 27: 0.02233345358345358,\n",
       " 28: 0.0017947330447330447,\n",
       " 29: 0.0029220779220779218,\n",
       " 30: 0.014411976911976909,\n",
       " 31: 0.13827561327561325,\n",
       " 32: 0.145247113997114,\n",
       " 33: 0.30407497594997596}"
      ]
     },
     "metadata": {},
     "execution_count": 25
    }
   ],
   "metadata": {}
  },
  {
   "cell_type": "code",
   "execution_count": 26,
   "source": [
    "#ego centrality not found in nx, yet"
   ],
   "outputs": [],
   "metadata": {}
  },
  {
   "cell_type": "code",
   "execution_count": 27,
   "source": [
    "nx.eigenvector_centrality(G)"
   ],
   "outputs": [
    {
     "output_type": "execute_result",
     "data": {
      "text/plain": [
       "{0: 0.3554834941851943,\n",
       " 1: 0.2659538704545025,\n",
       " 2: 0.31718938996844476,\n",
       " 3: 0.2111740783205706,\n",
       " 4: 0.07596645881657382,\n",
       " 5: 0.07948057788594247,\n",
       " 6: 0.07948057788594247,\n",
       " 7: 0.17095511498035434,\n",
       " 8: 0.2274050914716605,\n",
       " 9: 0.10267519030637758,\n",
       " 10: 0.07596645881657381,\n",
       " 11: 0.05285416945233648,\n",
       " 12: 0.08425192086558088,\n",
       " 13: 0.22646969838808148,\n",
       " 14: 0.10140627846270832,\n",
       " 15: 0.10140627846270832,\n",
       " 16: 0.023634794260596875,\n",
       " 17: 0.09239675666845953,\n",
       " 18: 0.10140627846270832,\n",
       " 19: 0.14791134007618667,\n",
       " 20: 0.10140627846270832,\n",
       " 21: 0.09239675666845953,\n",
       " 22: 0.10140627846270832,\n",
       " 23: 0.15012328691726787,\n",
       " 24: 0.05705373563802805,\n",
       " 25: 0.05920820250279008,\n",
       " 26: 0.07558192219009324,\n",
       " 27: 0.13347932684333308,\n",
       " 28: 0.13107925627221215,\n",
       " 29: 0.13496528673866567,\n",
       " 30: 0.17476027834493085,\n",
       " 31: 0.19103626979791702,\n",
       " 32: 0.3086510477336959,\n",
       " 33: 0.373371213013235}"
      ]
     },
     "metadata": {},
     "execution_count": 27
    }
   ],
   "metadata": {}
  },
  {
   "cell_type": "code",
   "execution_count": 53,
   "source": [
    "#LFVC not found"
   ],
   "outputs": [],
   "metadata": {}
  },
  {
   "cell_type": "code",
   "execution_count": 71,
   "source": [
    "nx.conductance(G,S:=(5,6)) #S can be a small iterable collection of nodes\r\n",
    "\r\n",
    "#The conductance is the quotient of the cut size and the smaller of the volumes of the two sets, in this case S and not S"
   ],
   "outputs": [
    {
     "output_type": "execute_result",
     "data": {
      "text/plain": [
       "0.75"
      ]
     },
     "metadata": {},
     "execution_count": 71
    }
   ],
   "metadata": {}
  },
  {
   "cell_type": "code",
   "execution_count": 72,
   "source": [
    "#neighbourhood function not found"
   ],
   "outputs": [],
   "metadata": {}
  },
  {
   "cell_type": "markdown",
   "source": [
    "## Computing eigenvalues of L:"
   ],
   "metadata": {}
  },
  {
   "cell_type": "code",
   "execution_count": 85,
   "source": [
    "w, v = LA.eig(L.toarray())\r\n",
    "# a is eigenvalue, v is corresponding eigenvector\r\n",
    "print(w.shape,v.shape)"
   ],
   "outputs": [
    {
     "output_type": "stream",
     "name": "stdout",
     "text": [
      "(34,) (34, 34)\n"
     ]
    }
   ],
   "metadata": {}
  },
  {
   "cell_type": "code",
   "execution_count": 86,
   "source": [
    "#picking 2nd lowest value of eigenvector is kinda confusing. what to do after that???"
   ],
   "outputs": [],
   "metadata": {}
  },
  {
   "cell_type": "code",
   "execution_count": 89,
   "source": [
    "#fielder vector:\r\n",
    "nx.fiedler_vector(G)"
   ],
   "outputs": [
    {
     "output_type": "execute_result",
     "data": {
      "text/plain": [
       "array([-0.11213744, -0.0412879 ,  0.02321895, -0.0554998 , -0.28460451,\n",
       "       -0.32372719, -0.32372719, -0.05258602,  0.05160127,  0.09280089,\n",
       "       -0.28460451, -0.21099308, -0.10946132, -0.01474199,  0.16275079,\n",
       "        0.16275079, -0.42276527, -0.10018145,  0.16275079, -0.01363714,\n",
       "        0.16275079, -0.10018145,  0.16275079,  0.15569458,  0.15302559,\n",
       "        0.16096293,  0.18710958,  0.12766405,  0.0951523 ,  0.16765032,\n",
       "        0.07349963,  0.09875343,  0.13034546,  0.11890327])"
      ]
     },
     "metadata": {},
     "execution_count": 89
    }
   ],
   "metadata": {}
  },
  {
   "cell_type": "code",
   "execution_count": null,
   "source": [
    "#edge LFVC and Node LFVC is still confusing."
   ],
   "outputs": [],
   "metadata": {}
  }
 ],
 "metadata": {
  "kernelspec": {
   "name": "python3",
   "display_name": "Python 3.9.6 64-bit"
  },
  "language_info": {
   "codemirror_mode": {
    "name": "ipython",
    "version": 3
   },
   "file_extension": ".py",
   "mimetype": "text/x-python",
   "name": "python",
   "nbconvert_exporter": "python",
   "pygments_lexer": "ipython3",
   "version": "3.9.6"
  },
  "interpreter": {
   "hash": "7706d00cdb259a29e57d9bbde8b99a36ab5b874edc733f1acb2572848daa1ec1"
  }
 },
 "nbformat": 4,
 "nbformat_minor": 5
}