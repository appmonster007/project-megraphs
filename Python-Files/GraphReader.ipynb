{
 "cells": [
  {
   "cell_type": "code",
   "execution_count": null,
   "source": [
    "import scipy as sp\n",
    "from scipy import sparse\n",
    "import networkx as nx\n",
    "from scipy.io import mmread\n",
    "from numpy import linalg as LA\n",
    "import numpy as np\n",
    "karate = mmread('../assets/S_soc-karate.mtx').astype(np.int8).tocsr()\n",
    "webedu = mmread('../assets/M_web-edu.mtx').astype(np.int8).tocsr()\n",
    "internet = mmread('../assets/L_tech-internet-as.mtx').astype(np.int8).tocsr()"
   ],
   "outputs": [],
   "metadata": {}
  },
  {
   "cell_type": "code",
   "execution_count": null,
   "source": [
    "# G=nx.from_scipy_sparse_matrix(karate)\n",
    "#uncomment below to read internet graph instead\n",
    "G=nx.from_scipy_sparse_matrix(internet)\n",
    "A = nx.adjacency_matrix(G)\n",
    "L = nx.laplacian_matrix(G).astype(np.int8)\n",
    "karate.dtype"
   ],
   "outputs": [],
   "metadata": {}
  },
  {
   "cell_type": "code",
   "execution_count": null,
   "source": [
    "display(A)\n",
    "display(L)\n",
    "print()\n",
    "# display(G)\n",
    "print(G)\n",
    "# nx.draw(G, pos=nx.kamada_kawai_layout(G))"
   ],
   "outputs": [],
   "metadata": {}
  },
  {
   "cell_type": "code",
   "execution_count": null,
   "source": [
    "#return a dictionary of nodes with their degree centrality normalized with max possible degree in the graph\n",
    "nx.degree_centrality(G)"
   ],
   "outputs": [],
   "metadata": {}
  },
  {
   "cell_type": "code",
   "execution_count": null,
   "source": [
    "#return a dictionary of nodes with their closeness centrality normalized to (n-1)/(|g|-1), n=no. of connected nodes to certain node, g is entire graph\n",
    "nx.closeness_centrality(G)"
   ],
   "outputs": [],
   "metadata": {}
  },
  {
   "cell_type": "code",
   "execution_count": null,
   "source": [
    "nx.betweenness_centrality(G)"
   ],
   "outputs": [],
   "metadata": {}
  },
  {
   "cell_type": "code",
   "execution_count": null,
   "source": [
    "#ego centrality not found in nx, yet"
   ],
   "outputs": [],
   "metadata": {}
  },
  {
   "cell_type": "code",
   "execution_count": null,
   "source": [
    "nx.eigenvector_centrality(G)"
   ],
   "outputs": [],
   "metadata": {}
  },
  {
   "cell_type": "code",
   "execution_count": null,
   "source": [
    "#LFVC not found"
   ],
   "outputs": [],
   "metadata": {}
  },
  {
   "cell_type": "code",
   "execution_count": null,
   "source": [
    "nx.conductance(G,S:=(5,6)) #S can be a small iterable collection of nodes\n",
    "\n",
    "#The conductance is the quotient of the cut size and the smaller of the volumes of the two sets, in this case S and not S"
   ],
   "outputs": [],
   "metadata": {}
  },
  {
   "cell_type": "code",
   "execution_count": null,
   "source": [
    "#neighbourhood function not found"
   ],
   "outputs": [],
   "metadata": {}
  },
  {
   "cell_type": "markdown",
   "source": [
    "## Computing eigenvalues of L:"
   ],
   "metadata": {}
  },
  {
   "cell_type": "code",
   "execution_count": null,
   "source": [
    "# w, v = LA.eig(L.toarray())\n",
    "# a is eigenvalue, v is corresponding eigenvector\n",
    "# print(w.shape,v.shape)\n",
    "\n"
   ],
   "outputs": [],
   "metadata": {}
  },
  {
   "cell_type": "code",
   "execution_count": null,
   "source": [
    "#picking 2nd lowest value of eigenvector is kinda confusing. what to do after that???"
   ],
   "outputs": [],
   "metadata": {}
  },
  {
   "cell_type": "code",
   "execution_count": null,
   "source": [
    "#fielder vector:\n",
    "nx.fiedler_vector(G)"
   ],
   "outputs": [],
   "metadata": {}
  },
  {
   "cell_type": "code",
   "execution_count": null,
   "source": [
    "#edge LFVC and Node LFVC is still confusing."
   ],
   "outputs": [],
   "metadata": {}
  }
 ],
 "metadata": {
  "kernelspec": {
   "name": "python3",
   "display_name": "Python 3.9.7 64-bit"
  },
  "language_info": {
   "codemirror_mode": {
    "name": "ipython",
    "version": 3
   },
   "file_extension": ".py",
   "mimetype": "text/x-python",
   "name": "python",
   "nbconvert_exporter": "python",
   "pygments_lexer": "ipython3",
   "version": "3.9.7"
  },
  "interpreter": {
   "hash": "aee8b7b246df8f9039afb4144a1f6fd8d2ca17a180786b69acc140d282b71a49"
  }
 },
 "nbformat": 4,
 "nbformat_minor": 5
}