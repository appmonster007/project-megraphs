{
 "cells": [
  {
   "cell_type": "code",
   "execution_count": null,
   "source": [
    "import scipy as sp\r\n",
    "from scipy import sparse\r\n",
    "import networkx as nx\r\n",
    "from scipy.io import mmread\r\n",
    "from numpy import linalg as LA\r\n",
    "import numpy as np\r\n",
    "%load_ext memory_profiler\r\n",
    "karate = mmread('soc-karate.mtx').astype(np.int8).tocsr()\r\n",
    "webedu = mmread('web-edu.mtx').astype(np.int8).tocsr()\r\n",
    "internet = mmread('tech-internet-as.mtx').astype(np.int8).tocsr()"
   ],
   "outputs": [],
   "metadata": {}
  },
  {
   "cell_type": "code",
   "execution_count": null,
   "source": [
    "# G=nx.from_scipy_sparse_matrix(karate)\n",
    "#uncomment below to read internet graph instead\n",
    "G=nx.from_scipy_sparse_matrix(webedu)\n",
    "# G=nx.from_scipy_sparse_matrix(internet)\n",
    "A = nx.adjacency_matrix(G)\n",
    "L = nx.laplacian_matrix(G).astype(np.int8)\n",
    "karate.dtype"
   ],
   "outputs": [],
   "metadata": {}
  },
  {
   "cell_type": "code",
   "execution_count": null,
   "source": [
    "display(A)\r\n",
    "display(L)\r\n",
    "print()\r\n",
    "# display(G)\r\n",
    "print(G)\r\n",
    "# nx.draw(G, pos=nx.kamada_kawai_layout(G))"
   ],
   "outputs": [],
   "metadata": {}
  },
  {
   "cell_type": "code",
   "execution_count": null,
   "source": [
    "#return a dictionary of nodes with their degree centrality normalized with max possible degree in the graph\r\n",
    "nx.degree_centrality(G)"
   ],
   "outputs": [],
   "metadata": {}
  },
  {
   "cell_type": "code",
   "execution_count": null,
   "source": [
    "#return a dictionary of nodes with their closeness centrality normalized to (n-1)/(|g|-1), n=no. of connected nodes to certain node, g is entire graph\r\n",
    "nx.closeness_centrality(G)"
   ],
   "outputs": [],
   "metadata": {}
  },
  {
   "cell_type": "code",
   "execution_count": null,
   "source": [
    "nx.betweenness_centrality(G)"
   ],
   "outputs": [],
   "metadata": {}
  },
  {
   "cell_type": "code",
   "execution_count": null,
   "source": [
    "#ego centrality not found in nx, yet"
   ],
   "outputs": [],
   "metadata": {}
  },
  {
   "cell_type": "code",
   "execution_count": null,
   "source": [
    "nx.eigenvector_centrality(G)"
   ],
   "outputs": [],
   "metadata": {}
  },
  {
   "cell_type": "code",
   "execution_count": null,
   "source": [
    "#LFVC not found on nx\r\n",
    "def new_lfvc(G):\r\n",
    "    if not nx.is_connected(G): return \"Not possible\" \r\n",
    "    fiedler_vector = nx.fiedler_vector(G)\r\n",
    "    lfvclist = [sum((fiedler_vector[j]-fiedler_vector[i[0]])*(fiedler_vector[j]-fiedler_vector[i[0]]) for j in G.neighbors(i[0])) for i in G.nodes(data = True)]\r\n",
    "    return lfvclist\r\n",
    "new_lfvc(G)"
   ],
   "outputs": [],
   "metadata": {}
  },
  {
   "cell_type": "code",
   "execution_count": null,
   "source": [
    "nx.conductance(G,S:=(5,6)) #S can be a small iterable collection of nodes\r\n",
    "\r\n",
    "#The conductance is the quotient of the cut size and the smaller of the volumes of the two sets, in this case S and not S"
   ],
   "outputs": [],
   "metadata": {}
  },
  {
   "cell_type": "code",
   "execution_count": null,
   "source": [
    "#neighbourhood function not found"
   ],
   "outputs": [],
   "metadata": {}
  },
  {
   "cell_type": "markdown",
   "source": [
    "## Computing eigenvalues of L:"
   ],
   "metadata": {}
  },
  {
   "cell_type": "code",
   "execution_count": null,
   "source": [
    "# w, v = LA.eig(L.toarray())\r\n",
    "# a is eigenvalue, v is corresponding eigenvector\r\n",
    "# print(w.shape,v.shape)\r\n",
    "\r\n"
   ],
   "outputs": [],
   "metadata": {}
  },
  {
   "cell_type": "code",
   "execution_count": null,
   "source": [
    "#picking 2nd lowest value of eigenvector is kinda confusing. what to do after that???"
   ],
   "outputs": [],
   "metadata": {}
  },
  {
   "cell_type": "code",
   "execution_count": null,
   "source": [
    "#fielder vector:\r\n",
    "nx.fiedler_vector(G)"
   ],
   "outputs": [],
   "metadata": {}
  },
  {
   "cell_type": "code",
   "execution_count": null,
   "source": [
    "#edge LFVC and Node LFVC is still confusing."
   ],
   "outputs": [],
   "metadata": {}
  }
 ],
 "metadata": {
  "kernelspec": {
   "name": "python3",
   "display_name": "Python 3.9.6 64-bit"
  },
  "language_info": {
   "codemirror_mode": {
    "name": "ipython",
    "version": 3
   },
   "file_extension": ".py",
   "mimetype": "text/x-python",
   "name": "python",
   "nbconvert_exporter": "python",
   "pygments_lexer": "ipython3",
   "version": "3.9.6"
  },
  "interpreter": {
   "hash": "7706d00cdb259a29e57d9bbde8b99a36ab5b874edc733f1acb2572848daa1ec1"
  }
 },
 "nbformat": 4,
 "nbformat_minor": 5
}