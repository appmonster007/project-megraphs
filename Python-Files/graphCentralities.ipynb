{
 "cells": [
  {
   "cell_type": "markdown",
   "source": [
    "## Importing required libraries"
   ],
   "metadata": {}
  },
  {
   "cell_type": "code",
   "execution_count": 73,
   "source": [
    "from os import stat\n",
    "from networkx.algorithms.components.connected import is_connected\n",
    "from networkx.classes.function import neighbors\n",
    "from networkx.linalg.algebraicconnectivity import fiedler_vector\n",
    "import scipy as sp\n",
    "import networkx as nx\n",
    "from scipy.io import mmread\n",
    "from scipy.sparse.coo import coo_matrix\n",
    "from scipy.sparse.linalg import eigs\n",
    "from numpy import linalg as LA\n",
    "import numpy as np\n",
    "import csv\n",
    "import statistics"
   ],
   "outputs": [],
   "metadata": {}
  },
  {
   "cell_type": "markdown",
   "source": [
    "## Creating Graph object"
   ],
   "metadata": {}
  },
  {
   "cell_type": "code",
   "execution_count": 74,
   "source": [
    "class Graph:\n",
    "    def __init__(self, sparse):\n",
    "        self.graph = nx.from_scipy_sparse_matrix(sparse)\n",
    "        self.adj = nx.adjacency_matrix(self.graph)\n",
    "        self.laplacian = nx.laplacian_matrix(self.graph)\n",
    "    def degree_centrality(self):\n",
    "        return nx.degree_centrality(self.graph)\n",
    "    def closeness_centrality(self):\n",
    "        return nx.closeness_centrality(self.graph)\n",
    "    def closeness_centrality_node(self, node):\n",
    "        return nx.closeness_centrality(self.graph, node)\n",
    "    def betweenness_centrality(self):\n",
    "        return nx.betweenness_centrality(self.graph, k = min(self.graph.number_of_nodes() , 500))\n",
    "    def eigenvector_centrality(self):\n",
    "        \n",
    "        return nx.eigenvector_centrality(self.graph)\n",
    "    def is_connected(self):\n",
    "        return nx.is_connected(self.graph)\n",
    "    def lfvc(self):\n",
    "        if (not self.is_connected()):\n",
    "            return \"Not possible\"\n",
    "        fiedler_vector = nx.fiedler_vector(self.graph)\n",
    "        lfvclist = []\n",
    "        for i in self.graph.nodes(data = True):\n",
    "            lfvcthis = 0\n",
    "            for j in self.graph.neighbors(i[0]):\n",
    "                lfvcthis += (fiedler_vector[j]-fiedler_vector[i[0]])*(fiedler_vector[j]-fiedler_vector[i[0]])\n",
    "            lfvclist.append(lfvcthis)\n",
    "        return lfvclist\n",
    "    def lfvc_node(self, node):\n",
    "        if (not self.is_connected()):\n",
    "            return \"Not possible\"\n",
    "        lfvcthis = 0\n",
    "        nodes = list(self.graph.nodes(data = True))\n",
    "        n = nodes[node]\n",
    "        fiedler_vector = self.eigenvector_atindex(1)\n",
    "        fiedler = fiedler_vector[n[0]]\n",
    "        for j in self.graph.neighbors(n[0]):\n",
    "            lfvcthis += (fiedler_vector[j]-fiedler)*(fiedler_vector[j]-fiedler)\n",
    "        return lfvcthis\n",
    "    def neighbourhood_hopset(self, index, k = 10):\n",
    "        nbrs = set([index])\n",
    "        for l in range(k):\n",
    "            nbrs = set((nbr for n in nbrs for nbr in self.graph[n]))\n",
    "        return len(nbrs)\n",
    "    def clustering_coefficient(self):\n",
    "        return nx.clustering(self.graph)\n",
    "    def clustering_coefficient_node(self, node):\n",
    "        return nx.clustering(self.graph, node)\n",
    "    def ego_centrality_node(self, node):\n",
    "        g = nx.ego_graph(self.graph, node)\n",
    "        nodes = list(g.nodes(data = True))\n",
    "        n = node\n",
    "        for i in nodes:\n",
    "            if i[0] == node:\n",
    "                n = i\n",
    "                break\n",
    "        centrality =  nx.betweenness_centrality(g)\n",
    "        return centrality[node]\n",
    "    def nodes_of_interest(self):\n",
    "        l = list(nx.degree_centrality(self.graph))\n",
    "        mean = statistics.mean(l)\n",
    "        median = statistics.median_high(l)\n",
    "        closest_mean = min(l, key = lambda x:abs(x-mean))\n",
    "        max_value = max(l)\n",
    "        min_value = min(l)\n",
    "        return l.index(median), l.index(closest_mean), l.index(min_value), l.index(max_value)\n",
    "    def eigenvector_atindex(self, a):\n",
    "        eig_values, eig_vectors = eigs(internet)\n",
    "        vector_pos = np.where(eig_values.real == np.sort(eig_values.real)[a])[0][0]\n",
    "        vector = np.transpose(eig_vectors)[vector_pos]\n",
    "        return vector.real"
   ],
   "outputs": [],
   "metadata": {}
  },
  {
   "cell_type": "markdown",
   "source": [
    "## Initialising and creating instances of graph object using different *.mtx files"
   ],
   "metadata": {}
  },
  {
   "cell_type": "code",
   "execution_count": 75,
   "source": [
    "# karate = mmread('../assets/S_soc-karate.mtx')\n",
    "# webedu = mmread('../assets/M_web-edu.mtx')\n",
    "# internet = mmread('../assets/L_tech-internet-as.mtx')"
   ],
   "outputs": [],
   "metadata": {}
  },
  {
   "cell_type": "code",
   "execution_count": 76,
   "source": [
    "karate = mmread('soc-karate.mtx')\n",
    "webedu = mmread('web-edu.mtx')\n",
    "internet = mmread('tech-internet-as.mtx')"
   ],
   "outputs": [],
   "metadata": {}
  },
  {
   "cell_type": "code",
   "execution_count": 77,
   "source": [
    "G1 = Graph(karate)\n",
    "G2 = Graph(webedu)\n",
    "G3 = Graph(internet)\n",
    "display(G2.graph)\n",
    "display(G3.graph)\n",
    "print((\"-\"*50)+\"Graphs made\"+(\"-\"*50))"
   ],
   "outputs": [
    {
     "output_type": "display_data",
     "data": {
      "text/plain": [
       "<networkx.classes.graph.Graph at 0x7fc1adae75e0>"
      ]
     },
     "metadata": {}
    },
    {
     "output_type": "display_data",
     "data": {
      "text/plain": [
       "<networkx.classes.graph.Graph at 0x7fc1adae78e0>"
      ]
     },
     "metadata": {}
    },
    {
     "output_type": "stream",
     "name": "stdout",
     "text": [
      "--------------------------------------------------Graphs made--------------------------------------------------\n"
     ]
    }
   ],
   "metadata": {}
  },
  {
   "cell_type": "code",
   "execution_count": 78,
   "source": [
    "G1.graph.size()"
   ],
   "outputs": [
    {
     "output_type": "execute_result",
     "data": {
      "text/plain": [
       "78"
      ]
     },
     "metadata": {},
     "execution_count": 78
    }
   ],
   "metadata": {}
  },
  {
   "cell_type": "code",
   "execution_count": 79,
   "source": [
    "# Checking if instantiated graphs are connected\n",
    "\n",
    "c1 = G1.is_connected()\n",
    "c2 = G2.is_connected()\n",
    "c3 = G3.is_connected()\n",
    "print(f'G1 is connected: {c1}')\n",
    "print(f'G2 is connected: {c2}')\n",
    "print(f'G3 is connected: {c3}')"
   ],
   "outputs": [
    {
     "output_type": "stream",
     "name": "stdout",
     "text": [
      "G1 is connected: True\n",
      "G2 is connected: True\n",
      "G3 is connected: True\n"
     ]
    }
   ],
   "metadata": {}
  },
  {
   "cell_type": "markdown",
   "source": [
    "## Finding Centralities"
   ],
   "metadata": {}
  },
  {
   "cell_type": "code",
   "execution_count": 80,
   "source": [
    "# EGO centrality\n",
    "# print(G.ego_centrality_node(4))\n",
    "# print(\"ego graph made\")"
   ],
   "outputs": [],
   "metadata": {}
  },
  {
   "cell_type": "code",
   "execution_count": 81,
   "source": [
    "# Finding lfvc node\n",
    "\n",
    "lfvc1 = G1.lfvc_node(0)\n",
    "lfvc2 = G2.lfvc_node(0)\n",
    "# lfvc3 = G3.lfvc_node(0)\n",
    "print(lfvc1)\n",
    "print(lfvc2)\n",
    "# print(lfvc3)"
   ],
   "outputs": [
    {
     "output_type": "stream",
     "name": "stdout",
     "text": [
      "4.579948275797112e-05\n",
      "2.999984025334377e-05\n"
     ]
    }
   ],
   "metadata": {}
  },
  {
   "cell_type": "code",
   "execution_count": 82,
   "source": [
    "# Finding nodes of interest\n",
    "print(\"Nodes of interest: \")\n",
    "print(G1.nodes_of_interest())\n",
    "print(G2.nodes_of_interest())\n",
    "print(G3.nodes_of_interest())"
   ],
   "outputs": [
    {
     "output_type": "stream",
     "name": "stdout",
     "text": [
      "Nodes of interest: \n",
      "(17, 16, 0, 33)\n",
      "(1515, 1515, 0, 3030)\n",
      "(20082, 20081, 0, 40163)\n"
     ]
    }
   ],
   "metadata": {}
  },
  {
   "cell_type": "code",
   "execution_count": 83,
   "source": [
    "# Finding Centralities of smallest size graph, i.e. soc-karate\n",
    "\n",
    "print(\"soc-karate :\")\n",
    "dc1 = G1.degree_centrality()\n",
    "cc1 = G1.closeness_centrality()\n",
    "bc1 = G1.betweenness_centrality()\n",
    "ec1 = G1.eigenvector_centrality()\n",
    "clc1 = G1.clustering_coefficient_node(0)\n",
    "lfvc_val1 = G1.lfvc()\n",
    "nhc1 = G1.neighbourhood_hopset(0,2)\n",
    "print((\"-\"*100))\n",
    "print(\"lfvc\")\n",
    "print(lfvc_val1)\n",
    "print((\"-\"*100))\n",
    "print(\"degree centrality\")\n",
    "print(dc1)\n",
    "print((\"-\"*100))\n",
    "print(\"closeness centrality\")\n",
    "print(cc1)\n",
    "print((\"-\"*100))\n",
    "print(\"betweenness centrality\")\n",
    "print(bc1)\n",
    "print((\"-\"*100))\n",
    "print(\"eigenvector centrality\")\n",
    "print(ec1)\n",
    "print((\"-\"*100))\n",
    "print(\"Clusters of node 1\")\n",
    "print(clc1)\n",
    "print((\"-\"*100))\n",
    "print(\"neighbouring hopset\")\n",
    "print(nhc1)\n",
    "print((\"-\"*100))\n"
   ],
   "outputs": [
    {
     "output_type": "stream",
     "name": "stdout",
     "text": [
      "soc-karate :\n",
      "----------------------------------------------------------------------------------------------------\n",
      "lfvc\n",
      "[0.2796644833360526, 0.031092730814211218, 0.06907300471272876, 0.014187972097852893, 0.03127549659853135, 0.056109398820060774, 0.05610939881905091, 0.009428901093859616, 0.03882565619806071, 0.005522978084165531, 0.031275496598491166, 0.0097723904840769, 0.002919005726748539, 0.031153835033945865, 0.0029727095351063117, 0.002972709535084597, 0.01961710726065581, 0.0036113936112126023, 0.002972709535073892, 0.028033824611904557, 0.0029727095350694393, 0.0036113936112382294, 0.0029727095350913823, 0.002952581755071063, 0.0036516741381748038, 0.003960776899744731, 0.005030760024818684, 0.012414442140584403, 0.005751480703857659, 0.004289527923188955, 0.018948645138262908, 0.05270747274383402, 0.029321908678190903, 0.06187316806881047]\n",
      "----------------------------------------------------------------------------------------------------\n",
      "degree centrality\n",
      "{0: 0.48484848484848486, 1: 0.2727272727272727, 2: 0.30303030303030304, 3: 0.18181818181818182, 4: 0.09090909090909091, 5: 0.12121212121212122, 6: 0.12121212121212122, 7: 0.12121212121212122, 8: 0.15151515151515152, 9: 0.06060606060606061, 10: 0.09090909090909091, 11: 0.030303030303030304, 12: 0.06060606060606061, 13: 0.15151515151515152, 14: 0.06060606060606061, 15: 0.06060606060606061, 16: 0.06060606060606061, 17: 0.06060606060606061, 18: 0.06060606060606061, 19: 0.09090909090909091, 20: 0.06060606060606061, 21: 0.06060606060606061, 22: 0.06060606060606061, 23: 0.15151515151515152, 24: 0.09090909090909091, 25: 0.09090909090909091, 26: 0.06060606060606061, 27: 0.12121212121212122, 28: 0.09090909090909091, 29: 0.12121212121212122, 30: 0.12121212121212122, 31: 0.18181818181818182, 32: 0.36363636363636365, 33: 0.5151515151515151}\n",
      "----------------------------------------------------------------------------------------------------\n",
      "closeness centrality\n",
      "{0: 0.5689655172413793, 1: 0.4852941176470588, 2: 0.559322033898305, 3: 0.4647887323943662, 4: 0.3793103448275862, 5: 0.38372093023255816, 6: 0.38372093023255816, 7: 0.44, 8: 0.515625, 9: 0.4342105263157895, 10: 0.3793103448275862, 11: 0.36666666666666664, 12: 0.3707865168539326, 13: 0.515625, 14: 0.3707865168539326, 15: 0.3707865168539326, 16: 0.28448275862068967, 17: 0.375, 18: 0.3707865168539326, 19: 0.5, 20: 0.3707865168539326, 21: 0.375, 22: 0.3707865168539326, 23: 0.39285714285714285, 24: 0.375, 25: 0.375, 26: 0.3626373626373626, 27: 0.4583333333333333, 28: 0.4520547945205479, 29: 0.38372093023255816, 30: 0.4583333333333333, 31: 0.5409836065573771, 32: 0.515625, 33: 0.55}\n",
      "----------------------------------------------------------------------------------------------------\n",
      "betweenness centrality\n",
      "{0: 0.4376352813852814, 1: 0.05393668831168831, 2: 0.14365680615680618, 3: 0.011909271284271284, 4: 0.0006313131313131313, 5: 0.029987373737373736, 6: 0.029987373737373736, 7: 0.0, 8: 0.055926827801827825, 9: 0.0008477633477633478, 10: 0.0006313131313131313, 11: 0.0, 12: 0.0, 13: 0.045863395863395856, 14: 0.0, 15: 0.0, 16: 0.0, 17: 0.0, 18: 0.0, 19: 0.0324750481000481, 20: 0.0, 21: 0.0, 22: 0.0, 23: 0.01761363636363636, 24: 0.0022095959595959595, 25: 0.0038404882154882162, 26: 0.0, 27: 0.02233345358345358, 28: 0.001794733044733045, 29: 0.002922077922077922, 30: 0.014411976911976912, 31: 0.13827561327561327, 32: 0.145247113997114, 33: 0.30407497594997585}\n",
      "----------------------------------------------------------------------------------------------------\n",
      "eigenvector centrality\n",
      "{0: 0.3554834941851943, 1: 0.2659538704545025, 2: 0.31718938996844476, 3: 0.2111740783205706, 4: 0.07596645881657382, 5: 0.07948057788594247, 6: 0.07948057788594247, 7: 0.17095511498035434, 8: 0.2274050914716605, 9: 0.10267519030637758, 10: 0.07596645881657381, 11: 0.05285416945233648, 12: 0.08425192086558088, 13: 0.22646969838808148, 14: 0.10140627846270832, 15: 0.10140627846270832, 16: 0.023634794260596875, 17: 0.09239675666845953, 18: 0.10140627846270832, 19: 0.14791134007618667, 20: 0.10140627846270832, 21: 0.09239675666845953, 22: 0.10140627846270832, 23: 0.15012328691726787, 24: 0.05705373563802805, 25: 0.05920820250279008, 26: 0.07558192219009324, 27: 0.13347932684333308, 28: 0.13107925627221215, 29: 0.13496528673866567, 30: 0.17476027834493085, 31: 0.19103626979791702, 32: 0.3086510477336959, 33: 0.373371213013235}\n",
      "----------------------------------------------------------------------------------------------------\n",
      "Clusters of node 1\n",
      "0.15\n",
      "----------------------------------------------------------------------------------------------------\n",
      "neighbouring hopset\n",
      "24\n",
      "----------------------------------------------------------------------------------------------------\n"
     ]
    }
   ],
   "metadata": {}
  },
  {
   "cell_type": "code",
   "execution_count": 84,
   "source": [
    "# Finding Centralities of medium size graph, i.e. web-edu\n",
    "\n",
    "print(\"web-edu :\")\n",
    "dc2 = G2.degree_centrality()\n",
    "cc2 = G2.closeness_centrality()\n",
    "bc2 = G2.betweenness_centrality()\n",
    "ec2 = G2.eigenvector_centrality()\n",
    "clc2 = G2.clustering_coefficient_node(0)\n",
    "lfvc_val2 = G2.lfvc()\n",
    "nhc2 = G2.neighbourhood_hopset(0,2)\n",
    "print((\"-\"*100))\n",
    "print(\"lfvc\")\n",
    "print(lfvc_val2)\n",
    "print((\"-\"*100))\n",
    "print(\"degree centrality\")\n",
    "print(dc2)\n",
    "print((\"-\"*100))\n",
    "print(\"closeness centrality\")\n",
    "print(cc2)\n",
    "print((\"-\"*100))\n",
    "print(\"betweenness centrality\")\n",
    "print(bc2)\n",
    "print((\"-\"*100))\n",
    "print(\"eigenvector centrality\")\n",
    "print(ec2)\n",
    "print((\"-\"*100))\n",
    "print(\"Clusters of node 1\")\n",
    "print(clc2)\n",
    "print((\"-\"*100))\n",
    "print(\"neighbouring hopset\")\n",
    "print(nhc2)\n",
    "print((\"-\"*100))"
   ],
   "outputs": [
    {
     "output_type": "stream",
     "name": "stdout",
     "text": [
      "web-edu :\n"
     ]
    },
    {
     "output_type": "error",
     "ename": "KeyboardInterrupt",
     "evalue": "",
     "traceback": [
      "\u001b[0;31m---------------------------------------------------------------------------\u001b[0m",
      "\u001b[0;31mKeyboardInterrupt\u001b[0m                         Traceback (most recent call last)",
      "\u001b[0;32m/tmp/ipykernel_9005/1382701330.py\u001b[0m in \u001b[0;36m<module>\u001b[0;34m\u001b[0m\n\u001b[1;32m      3\u001b[0m \u001b[0mprint\u001b[0m\u001b[0;34m(\u001b[0m\u001b[0;34m\"web-edu :\"\u001b[0m\u001b[0;34m)\u001b[0m\u001b[0;34m\u001b[0m\u001b[0;34m\u001b[0m\u001b[0m\n\u001b[1;32m      4\u001b[0m \u001b[0mdc2\u001b[0m \u001b[0;34m=\u001b[0m \u001b[0mG2\u001b[0m\u001b[0;34m.\u001b[0m\u001b[0mdegree_centrality\u001b[0m\u001b[0;34m(\u001b[0m\u001b[0;34m)\u001b[0m\u001b[0;34m\u001b[0m\u001b[0;34m\u001b[0m\u001b[0m\n\u001b[0;32m----> 5\u001b[0;31m \u001b[0mcc2\u001b[0m \u001b[0;34m=\u001b[0m \u001b[0mG2\u001b[0m\u001b[0;34m.\u001b[0m\u001b[0mcloseness_centrality\u001b[0m\u001b[0;34m(\u001b[0m\u001b[0;34m)\u001b[0m\u001b[0;34m\u001b[0m\u001b[0;34m\u001b[0m\u001b[0m\n\u001b[0m\u001b[1;32m      6\u001b[0m \u001b[0mbc2\u001b[0m \u001b[0;34m=\u001b[0m \u001b[0mG2\u001b[0m\u001b[0;34m.\u001b[0m\u001b[0mbetweenness_centrality\u001b[0m\u001b[0;34m(\u001b[0m\u001b[0;34m)\u001b[0m\u001b[0;34m\u001b[0m\u001b[0;34m\u001b[0m\u001b[0m\n\u001b[1;32m      7\u001b[0m \u001b[0mec2\u001b[0m \u001b[0;34m=\u001b[0m \u001b[0mG2\u001b[0m\u001b[0;34m.\u001b[0m\u001b[0meigenvector_centrality\u001b[0m\u001b[0;34m(\u001b[0m\u001b[0;34m)\u001b[0m\u001b[0;34m\u001b[0m\u001b[0;34m\u001b[0m\u001b[0m\n",
      "\u001b[0;32m/tmp/ipykernel_9005/1291170604.py\u001b[0m in \u001b[0;36mcloseness_centrality\u001b[0;34m(self)\u001b[0m\n\u001b[1;32m      7\u001b[0m         \u001b[0;32mreturn\u001b[0m \u001b[0mnx\u001b[0m\u001b[0;34m.\u001b[0m\u001b[0mdegree_centrality\u001b[0m\u001b[0;34m(\u001b[0m\u001b[0mself\u001b[0m\u001b[0;34m.\u001b[0m\u001b[0mgraph\u001b[0m\u001b[0;34m)\u001b[0m\u001b[0;34m\u001b[0m\u001b[0;34m\u001b[0m\u001b[0m\n\u001b[1;32m      8\u001b[0m     \u001b[0;32mdef\u001b[0m \u001b[0mcloseness_centrality\u001b[0m\u001b[0;34m(\u001b[0m\u001b[0mself\u001b[0m\u001b[0;34m)\u001b[0m\u001b[0;34m:\u001b[0m\u001b[0;34m\u001b[0m\u001b[0;34m\u001b[0m\u001b[0m\n\u001b[0;32m----> 9\u001b[0;31m         \u001b[0;32mreturn\u001b[0m \u001b[0mnx\u001b[0m\u001b[0;34m.\u001b[0m\u001b[0mcloseness_centrality\u001b[0m\u001b[0;34m(\u001b[0m\u001b[0mself\u001b[0m\u001b[0;34m.\u001b[0m\u001b[0mgraph\u001b[0m\u001b[0;34m)\u001b[0m\u001b[0;34m\u001b[0m\u001b[0;34m\u001b[0m\u001b[0m\n\u001b[0m\u001b[1;32m     10\u001b[0m     \u001b[0;32mdef\u001b[0m \u001b[0mcloseness_centrality_node\u001b[0m\u001b[0;34m(\u001b[0m\u001b[0mself\u001b[0m\u001b[0;34m,\u001b[0m \u001b[0mnode\u001b[0m\u001b[0;34m)\u001b[0m\u001b[0;34m:\u001b[0m\u001b[0;34m\u001b[0m\u001b[0;34m\u001b[0m\u001b[0m\n\u001b[1;32m     11\u001b[0m         \u001b[0;32mreturn\u001b[0m \u001b[0mnx\u001b[0m\u001b[0;34m.\u001b[0m\u001b[0mcloseness_centrality\u001b[0m\u001b[0;34m(\u001b[0m\u001b[0mself\u001b[0m\u001b[0;34m.\u001b[0m\u001b[0mgraph\u001b[0m\u001b[0;34m,\u001b[0m \u001b[0mnode\u001b[0m\u001b[0;34m)\u001b[0m\u001b[0;34m\u001b[0m\u001b[0;34m\u001b[0m\u001b[0m\n",
      "\u001b[0;32m~/.local/lib/python3.9/site-packages/networkx/algorithms/centrality/closeness.py\u001b[0m in \u001b[0;36mcloseness_centrality\u001b[0;34m(G, u, distance, wf_improved)\u001b[0m\n\u001b[1;32m    111\u001b[0m     \u001b[0mcloseness_centrality\u001b[0m \u001b[0;34m=\u001b[0m \u001b[0;34m{\u001b[0m\u001b[0;34m}\u001b[0m\u001b[0;34m\u001b[0m\u001b[0;34m\u001b[0m\u001b[0m\n\u001b[1;32m    112\u001b[0m     \u001b[0;32mfor\u001b[0m \u001b[0mn\u001b[0m \u001b[0;32min\u001b[0m \u001b[0mnodes\u001b[0m\u001b[0;34m:\u001b[0m\u001b[0;34m\u001b[0m\u001b[0;34m\u001b[0m\u001b[0m\n\u001b[0;32m--> 113\u001b[0;31m         \u001b[0msp\u001b[0m \u001b[0;34m=\u001b[0m \u001b[0mpath_length\u001b[0m\u001b[0;34m(\u001b[0m\u001b[0mG\u001b[0m\u001b[0;34m,\u001b[0m \u001b[0mn\u001b[0m\u001b[0;34m)\u001b[0m\u001b[0;34m\u001b[0m\u001b[0;34m\u001b[0m\u001b[0m\n\u001b[0m\u001b[1;32m    114\u001b[0m         \u001b[0mtotsp\u001b[0m \u001b[0;34m=\u001b[0m \u001b[0msum\u001b[0m\u001b[0;34m(\u001b[0m\u001b[0msp\u001b[0m\u001b[0;34m.\u001b[0m\u001b[0mvalues\u001b[0m\u001b[0;34m(\u001b[0m\u001b[0;34m)\u001b[0m\u001b[0;34m)\u001b[0m\u001b[0;34m\u001b[0m\u001b[0;34m\u001b[0m\u001b[0m\n\u001b[1;32m    115\u001b[0m         \u001b[0mlen_G\u001b[0m \u001b[0;34m=\u001b[0m \u001b[0mlen\u001b[0m\u001b[0;34m(\u001b[0m\u001b[0mG\u001b[0m\u001b[0;34m)\u001b[0m\u001b[0;34m\u001b[0m\u001b[0;34m\u001b[0m\u001b[0m\n",
      "\u001b[0;32m~/.local/lib/python3.9/site-packages/networkx/algorithms/shortest_paths/unweighted.py\u001b[0m in \u001b[0;36msingle_source_shortest_path_length\u001b[0;34m(G, source, cutoff)\u001b[0m\n\u001b[1;32m     57\u001b[0m         \u001b[0mcutoff\u001b[0m \u001b[0;34m=\u001b[0m \u001b[0mfloat\u001b[0m\u001b[0;34m(\u001b[0m\u001b[0;34m\"inf\"\u001b[0m\u001b[0;34m)\u001b[0m\u001b[0;34m\u001b[0m\u001b[0;34m\u001b[0m\u001b[0m\n\u001b[1;32m     58\u001b[0m     \u001b[0mnextlevel\u001b[0m \u001b[0;34m=\u001b[0m \u001b[0;34m{\u001b[0m\u001b[0msource\u001b[0m\u001b[0;34m:\u001b[0m \u001b[0;36m1\u001b[0m\u001b[0;34m}\u001b[0m\u001b[0;34m\u001b[0m\u001b[0;34m\u001b[0m\u001b[0m\n\u001b[0;32m---> 59\u001b[0;31m     \u001b[0;32mreturn\u001b[0m \u001b[0mdict\u001b[0m\u001b[0;34m(\u001b[0m\u001b[0m_single_shortest_path_length\u001b[0m\u001b[0;34m(\u001b[0m\u001b[0mG\u001b[0m\u001b[0;34m.\u001b[0m\u001b[0madj\u001b[0m\u001b[0;34m,\u001b[0m \u001b[0mnextlevel\u001b[0m\u001b[0;34m,\u001b[0m \u001b[0mcutoff\u001b[0m\u001b[0;34m)\u001b[0m\u001b[0;34m)\u001b[0m\u001b[0;34m\u001b[0m\u001b[0;34m\u001b[0m\u001b[0m\n\u001b[0m\u001b[1;32m     60\u001b[0m \u001b[0;34m\u001b[0m\u001b[0m\n\u001b[1;32m     61\u001b[0m \u001b[0;34m\u001b[0m\u001b[0m\n",
      "\u001b[0;32m~/.local/lib/python3.9/site-packages/networkx/algorithms/shortest_paths/unweighted.py\u001b[0m in \u001b[0;36m_single_shortest_path_length\u001b[0;34m(adj, firstlevel, cutoff)\u001b[0m\n\u001b[1;32m     89\u001b[0m             \u001b[0;32mreturn\u001b[0m\u001b[0;34m\u001b[0m\u001b[0;34m\u001b[0m\u001b[0m\n\u001b[1;32m     90\u001b[0m         \u001b[0;32mfor\u001b[0m \u001b[0mv\u001b[0m \u001b[0;32min\u001b[0m \u001b[0mfound\u001b[0m\u001b[0;34m:\u001b[0m\u001b[0;34m\u001b[0m\u001b[0;34m\u001b[0m\u001b[0m\n\u001b[0;32m---> 91\u001b[0;31m             \u001b[0mnextlevel\u001b[0m\u001b[0;34m.\u001b[0m\u001b[0mupdate\u001b[0m\u001b[0;34m(\u001b[0m\u001b[0madj\u001b[0m\u001b[0;34m[\u001b[0m\u001b[0mv\u001b[0m\u001b[0;34m]\u001b[0m\u001b[0;34m)\u001b[0m\u001b[0;34m\u001b[0m\u001b[0;34m\u001b[0m\u001b[0m\n\u001b[0m\u001b[1;32m     92\u001b[0m         \u001b[0mlevel\u001b[0m \u001b[0;34m+=\u001b[0m \u001b[0;36m1\u001b[0m\u001b[0;34m\u001b[0m\u001b[0;34m\u001b[0m\u001b[0m\n\u001b[1;32m     93\u001b[0m     \u001b[0;32mdel\u001b[0m \u001b[0mseen\u001b[0m\u001b[0;34m\u001b[0m\u001b[0;34m\u001b[0m\u001b[0m\n",
      "\u001b[0;32m~/.local/lib/python3.9/site-packages/networkx/classes/coreviews.py\u001b[0m in \u001b[0;36m__getitem__\u001b[0;34m(self, name)\u001b[0m\n\u001b[1;32m     80\u001b[0m \u001b[0;34m\u001b[0m\u001b[0m\n\u001b[1;32m     81\u001b[0m     \u001b[0;32mdef\u001b[0m \u001b[0m__getitem__\u001b[0m\u001b[0;34m(\u001b[0m\u001b[0mself\u001b[0m\u001b[0;34m,\u001b[0m \u001b[0mname\u001b[0m\u001b[0;34m)\u001b[0m\u001b[0;34m:\u001b[0m\u001b[0;34m\u001b[0m\u001b[0;34m\u001b[0m\u001b[0m\n\u001b[0;32m---> 82\u001b[0;31m         \u001b[0;32mreturn\u001b[0m \u001b[0mAtlasView\u001b[0m\u001b[0;34m(\u001b[0m\u001b[0mself\u001b[0m\u001b[0;34m.\u001b[0m\u001b[0m_atlas\u001b[0m\u001b[0;34m[\u001b[0m\u001b[0mname\u001b[0m\u001b[0;34m]\u001b[0m\u001b[0;34m)\u001b[0m\u001b[0;34m\u001b[0m\u001b[0;34m\u001b[0m\u001b[0m\n\u001b[0m\u001b[1;32m     83\u001b[0m \u001b[0;34m\u001b[0m\u001b[0m\n\u001b[1;32m     84\u001b[0m     \u001b[0;32mdef\u001b[0m \u001b[0mcopy\u001b[0m\u001b[0;34m(\u001b[0m\u001b[0mself\u001b[0m\u001b[0;34m)\u001b[0m\u001b[0;34m:\u001b[0m\u001b[0;34m\u001b[0m\u001b[0;34m\u001b[0m\u001b[0m\n",
      "\u001b[0;31mKeyboardInterrupt\u001b[0m: "
     ]
    }
   ],
   "metadata": {}
  },
  {
   "cell_type": "code",
   "execution_count": 85,
   "source": [
    "# Finding Centralities of largest size graph, i.e. tech-internet-as\n",
    "\n",
    "print(\"tech-internet-as :\")\n",
    "# dc3 = G3.degree_centrality()\n",
    "# cc3 = G3.closeness_centrality()\n",
    "# bc3 = G3.betweenness_centrality()\n",
    "# ec3 = G3.eigenvector_centrality()\n",
    "# clc3 = G3.clustering_coefficient_node(0)\n",
    "lfvc_val3 = G3.lfvc_node(0)\n",
    "nhc3 = G3.neighbourhood_hopset(0,2)\n",
    "print((\"-\"*100))\n",
    "print(\"lfvc\")\n",
    "print(lfvc_val3)\n",
    "# print((\"-\"*100))\n",
    "# print(\"degree centrality\")\n",
    "# print(dc3)\n",
    "# print((\"-\"*100))\n",
    "# print(\"closeness centrality\")\n",
    "# print(cc3)\n",
    "# print((\"-\"*100))\n",
    "# print(\"betweenness centrality\")\n",
    "# print(bc3)\n",
    "# print((\"-\"*100))\n",
    "# print(\"eigenvector centrality\")\n",
    "# print(ec3)\n",
    "# print((\"-\"*100))\n",
    "# print(\"Clusters of node 1\")\n",
    "# print(clc3)\n",
    "# print((\"-\"*100))\n",
    "# print(\"neighbouring hopset\")\n",
    "# print(nhc3)\n",
    "# print((\"-\"*100))"
   ],
   "outputs": [
    {
     "output_type": "stream",
     "name": "stdout",
     "text": [
      "tech-internet-as :\n",
      "----------------------------------------------------------------------------------------------------\n",
      "lfvc\n",
      "7.920438705271443e-05\n"
     ]
    }
   ],
   "metadata": {}
  },
  {
   "cell_type": "code",
   "execution_count": null,
   "source": [],
   "outputs": [],
   "metadata": {}
  }
 ],
 "metadata": {
  "orig_nbformat": 4,
  "language_info": {
   "name": "python",
   "version": "3.9.5",
   "mimetype": "text/x-python",
   "codemirror_mode": {
    "name": "ipython",
    "version": 3
   },
   "pygments_lexer": "ipython3",
   "nbconvert_exporter": "python",
   "file_extension": ".py"
  },
  "kernelspec": {
   "name": "python3",
   "display_name": "Python 3.9.5 64-bit"
  },
  "interpreter": {
   "hash": "916dbcbb3f70747c44a77c7bcd40155683ae19c65e1c03b4aa3499c5328201f1"
  }
 },
 "nbformat": 4,
 "nbformat_minor": 2
}