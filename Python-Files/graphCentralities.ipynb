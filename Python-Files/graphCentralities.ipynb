{
 "cells": [
  {
   "cell_type": "markdown",
   "source": [
    "## Importing required libraries"
   ],
   "metadata": {}
  },
  {
   "cell_type": "code",
   "execution_count": 1,
   "source": [
    "from os import stat\n",
    "from networkx.algorithms.components.connected import is_connected\n",
    "from networkx.classes.function import neighbors\n",
    "from networkx.linalg.algebraicconnectivity import fiedler_vector\n",
    "import scipy as sp\n",
    "import networkx as nx\n",
    "from scipy.io import mmread\n",
    "from scipy.sparse.coo import coo_matrix\n",
    "from scipy.sparse.linalg import eigs\n",
    "from numpy import linalg as LA\n",
    "import numpy as np\n",
    "import csv\n",
    "import statistics"
   ],
   "outputs": [],
   "metadata": {}
  },
  {
   "cell_type": "markdown",
   "source": [
    "## Creating Graph object"
   ],
   "metadata": {}
  },
  {
   "cell_type": "code",
   "execution_count": 2,
   "source": [
    "class Graph:\n",
    "    def __init__(self, sparse):\n",
    "        self.graph = nx.from_scipy_sparse_matrix(sparse)\n",
    "        self.adj = nx.adjacency_matrix(self.graph)\n",
    "        self.laplacian = nx.laplacian_matrix(self.graph)\n",
    "    def degree_centrality(self):\n",
    "        return nx.degree_centrality(self.graph)\n",
    "    def closeness_centrality(self):\n",
    "        return nx.closeness_centrality(self.graph)\n",
    "    def closeness_centrality_node(self, node):\n",
    "        return nx.closeness_centrality(self.graph, node)\n",
    "    def betweenness_centrality(self):\n",
    "        return nx.betweenness_centrality(self.graph, k = min(self.graph.number_of_nodes() , 500))\n",
    "    def eigenvector_centrality(self):\n",
    "        \n",
    "        return nx.eigenvector_centrality(self.graph)\n",
    "    def is_connected(self):\n",
    "        return nx.is_connected(self.graph)\n",
    "    def lfvc(self):\n",
    "        if (not self.is_connected()):\n",
    "            return \"Not possible\"\n",
    "        fiedler_vector = nx.fiedler_vector(self.graph)\n",
    "        lfvclist = []\n",
    "        for i in self.graph.nodes(data = True):\n",
    "            lfvcthis = 0\n",
    "            for j in self.graph.neighbors(i[0]):\n",
    "                lfvcthis += (fiedler_vector[j]-fiedler_vector[i[0]])*(fiedler_vector[j]-fiedler_vector[i[0]])\n",
    "            lfvclist.append(lfvcthis)\n",
    "        return lfvclist\n",
    "    def lfvc_node(self, node):\n",
    "        if (not self.is_connected()):\n",
    "            return \"Not possible\"\n",
    "        lfvcthis = 0\n",
    "        nodes = list(self.graph.nodes(data = True))\n",
    "        n = nodes[node]\n",
    "        fiedler_vector = self.eigenvector_atindex(1)\n",
    "        fiedler = fiedler_vector[n[0]]\n",
    "        for j in self.graph.neighbors(n[0]):\n",
    "            lfvcthis += (fiedler_vector[j]-fiedler)*(fiedler_vector[j]-fiedler)\n",
    "        return lfvcthis\n",
    "    def neighbourhood_hopset(self, index, k = 10):\n",
    "        nbrs = set([index])\n",
    "        for l in range(k):\n",
    "            nbrs = set((nbr for n in nbrs for nbr in self.graph[n]))\n",
    "        return len(nbrs)\n",
    "    def clustering_coefficient(self):\n",
    "        return nx.clustering(self.graph)\n",
    "    def clustering_coefficient_node(self, node):\n",
    "        return nx.clustering(self.graph, node)\n",
    "    def ego_centrality_node(self, node):\n",
    "        g = nx.ego_graph(self.graph, node)\n",
    "        nodes = list(g.nodes(data = True))\n",
    "        n = node\n",
    "        for i in nodes:\n",
    "            if i[0] == node:\n",
    "                n = i\n",
    "                break\n",
    "        centrality =  nx.betweenness_centrality(g)\n",
    "        return centrality[node]\n",
    "    def nodes_of_interest(self):\n",
    "        l = list(nx.degree_centrality(self.graph))\n",
    "        mean = statistics.mean(l)\n",
    "        median = statistics.median_high(l)\n",
    "        closest_mean = min(l, key = lambda x:abs(x-mean))\n",
    "        max_value = max(l)\n",
    "        min_value = min(l)\n",
    "        return l.index(median), l.index(closest_mean), l.index(min_value), l.index(max_value)\n",
    "    def eigenvector_atindex(self, a):\n",
    "        eig_values, eig_vectors = eigs(internet)\n",
    "        vector_pos = np.where(eig_values.real == np.sort(eig_values.real)[a])[0][0]\n",
    "        vector = np.transpose(eig_vectors)[vector_pos]\n",
    "        return vector.real"
   ],
   "outputs": [],
   "metadata": {}
  },
  {
   "cell_type": "markdown",
   "source": [
    "## Initialising and creating instances of graph object using different *.mtx files"
   ],
   "metadata": {}
  },
  {
   "cell_type": "code",
   "execution_count": 3,
   "source": [
    "# karate = mmread('../assets/S_soc-karate.mtx')\n",
    "# webedu = mmread('../assets/M_web-edu.mtx')\n",
    "# internet = mmread('../assets/L_tech-internet-as.mtx')"
   ],
   "outputs": [],
   "metadata": {}
  },
  {
   "cell_type": "code",
   "execution_count": 4,
   "source": [
    "karate = mmread('soc-karate.mtx')\n",
    "webedu = mmread('web-edu.mtx')\n",
    "internet = mmread('tech-internet-as.mtx')"
   ],
   "outputs": [],
   "metadata": {}
  },
  {
   "cell_type": "code",
   "execution_count": 5,
   "source": [
    "G1 = Graph(karate)\n",
    "G2 = Graph(webedu)\n",
    "G3 = Graph(internet)\n",
    "print((\"-\"*50)+\"Graphs made\"+(\"-\"*50))"
   ],
   "outputs": [
    {
     "output_type": "stream",
     "name": "stdout",
     "text": [
      "--------------------------------------------------Graphs made--------------------------------------------------\n"
     ]
    }
   ],
   "metadata": {}
  },
  {
   "cell_type": "code",
   "execution_count": 6,
   "source": [
    "G1.graph.size()\n",
    "G2.graph.size()\n",
    "G3.graph.size()"
   ],
   "outputs": [
    {
     "output_type": "execute_result",
     "data": {
      "text/plain": [
       "85123"
      ]
     },
     "metadata": {},
     "execution_count": 6
    }
   ],
   "metadata": {}
  },
  {
   "cell_type": "code",
   "execution_count": 7,
   "source": [
    "# Checking if instantiated graphs are connected\n",
    "\n",
    "c1 = G1.is_connected()\n",
    "c2 = G2.is_connected()\n",
    "c3 = G3.is_connected()\n",
    "print(f'G1 is connected: {c1}')\n",
    "print(f'G2 is connected: {c2}')\n",
    "print(f'G3 is connected: {c3}')"
   ],
   "outputs": [
    {
     "output_type": "stream",
     "name": "stdout",
     "text": [
      "G1 is connected: True\n",
      "G2 is connected: True\n",
      "G3 is connected: True\n"
     ]
    }
   ],
   "metadata": {}
  },
  {
   "cell_type": "markdown",
   "source": [
    "## Finding Centralities"
   ],
   "metadata": {}
  },
  {
   "cell_type": "code",
   "execution_count": 8,
   "source": [
    "# EGO centrality\n",
    "# print(G.ego_centrality_node(4))\n",
    "# print(\"ego graph made\")"
   ],
   "outputs": [],
   "metadata": {}
  },
  {
   "cell_type": "code",
   "execution_count": 9,
   "source": [
    "# Finding lfvc node\n",
    "\n",
    "lfvc1 = G1.lfvc_node(0)\n",
    "lfvc2 = G2.lfvc_node(0)\n",
    "# lfvc3 = G3.lfvc_node(0)\n",
    "print(lfvc1)\n",
    "print(lfvc2)\n",
    "# print(lfvc3)"
   ],
   "outputs": [
    {
     "output_type": "stream",
     "name": "stdout",
     "text": [
      "4.5799482757965784e-05\n",
      "2.999984025334244e-05\n"
     ]
    }
   ],
   "metadata": {}
  },
  {
   "cell_type": "code",
   "execution_count": 10,
   "source": [
    "# Finding nodes of interest\n",
    "print(\"Nodes of interest: \")\n",
    "print(G1.nodes_of_interest())\n",
    "print(G2.nodes_of_interest())\n",
    "print(G3.nodes_of_interest())"
   ],
   "outputs": [
    {
     "output_type": "stream",
     "name": "stdout",
     "text": [
      "Nodes of interest: \n",
      "(17, 16, 0, 33)\n",
      "(1515, 1515, 0, 3030)\n",
      "(20082, 20081, 0, 40163)\n"
     ]
    }
   ],
   "metadata": {}
  },
  {
   "cell_type": "code",
   "execution_count": 11,
   "source": [
    "# Finding Centralities of smallest size graph, i.e. soc-karate\n",
    "\n",
    "print(\"soc-karate :\")\n",
    "dc1 = G1.degree_centrality()\n",
    "cc1 = G1.closeness_centrality()\n",
    "bc1 = G1.betweenness_centrality()\n",
    "ec1 = G1.eigenvector_centrality()\n",
    "clc1 = G1.clustering_coefficient_node(0)\n",
    "lfvc_val1 = G1.lfvc()\n",
    "nhc1 = G1.neighbourhood_hopset(0,2)\n",
    "print((\"-\"*100))\n",
    "print(\"lfvc\")\n",
    "print(lfvc_val1)\n",
    "print((\"-\"*100))\n",
    "print(\"degree centrality\")\n",
    "print(dc1)\n",
    "print((\"-\"*100))\n",
    "print(\"closeness centrality\")\n",
    "print(cc1)\n",
    "print((\"-\"*100))\n",
    "print(\"betweenness centrality\")\n",
    "print(bc1)\n",
    "print((\"-\"*100))\n",
    "print(\"eigenvector centrality\")\n",
    "print(ec1)\n",
    "print((\"-\"*100))\n",
    "print(\"Clusters of node 1\")\n",
    "print(clc1)\n",
    "print((\"-\"*100))\n",
    "print(\"neighbouring hopset\")\n",
    "print(nhc1)\n",
    "print((\"-\"*100))\n"
   ],
   "outputs": [
    {
     "output_type": "stream",
     "name": "stdout",
     "text": [
      "soc-karate :\n",
      "----------------------------------------------------------------------------------------------------\n",
      "lfvc\n",
      "[0.2796644277361898, 0.031092742972552746, 0.0690730305929457, 0.014187976849600667, 0.03127547422922104, 0.05610935080190956, 0.05610935080197928, 0.009428902702794282, 0.038825666711420126, 0.005522980055064763, 0.03127547422922379, 0.009772431563965074, 0.0029190074674562082, 0.03115384529622393, 0.0029727108860802794, 0.0029727108860804316, 0.019617086490157608, 0.0036113950795575583, 0.002972710886080258, 0.028033833202361386, 0.002972710886080258, 0.003611395079557539, 0.0029727108860803557, 0.0029525834575557697, 0.0036516760559384704, 0.003960778863536106, 0.005030762976567724, 0.012414448470119271, 0.005751483358996746, 0.004289530328309044, 0.01894865419068614, 0.052707489268150796, 0.029321922390905825, 0.061873197749448584]\n",
      "----------------------------------------------------------------------------------------------------\n",
      "degree centrality\n",
      "{0: 0.48484848484848486, 1: 0.2727272727272727, 2: 0.30303030303030304, 3: 0.18181818181818182, 4: 0.09090909090909091, 5: 0.12121212121212122, 6: 0.12121212121212122, 7: 0.12121212121212122, 8: 0.15151515151515152, 9: 0.06060606060606061, 10: 0.09090909090909091, 11: 0.030303030303030304, 12: 0.06060606060606061, 13: 0.15151515151515152, 14: 0.06060606060606061, 15: 0.06060606060606061, 16: 0.06060606060606061, 17: 0.06060606060606061, 18: 0.06060606060606061, 19: 0.09090909090909091, 20: 0.06060606060606061, 21: 0.06060606060606061, 22: 0.06060606060606061, 23: 0.15151515151515152, 24: 0.09090909090909091, 25: 0.09090909090909091, 26: 0.06060606060606061, 27: 0.12121212121212122, 28: 0.09090909090909091, 29: 0.12121212121212122, 30: 0.12121212121212122, 31: 0.18181818181818182, 32: 0.36363636363636365, 33: 0.5151515151515151}\n",
      "----------------------------------------------------------------------------------------------------\n",
      "closeness centrality\n",
      "{0: 0.5689655172413793, 1: 0.4852941176470588, 2: 0.559322033898305, 3: 0.4647887323943662, 4: 0.3793103448275862, 5: 0.38372093023255816, 6: 0.38372093023255816, 7: 0.44, 8: 0.515625, 9: 0.4342105263157895, 10: 0.3793103448275862, 11: 0.36666666666666664, 12: 0.3707865168539326, 13: 0.515625, 14: 0.3707865168539326, 15: 0.3707865168539326, 16: 0.28448275862068967, 17: 0.375, 18: 0.3707865168539326, 19: 0.5, 20: 0.3707865168539326, 21: 0.375, 22: 0.3707865168539326, 23: 0.39285714285714285, 24: 0.375, 25: 0.375, 26: 0.3626373626373626, 27: 0.4583333333333333, 28: 0.4520547945205479, 29: 0.38372093023255816, 30: 0.4583333333333333, 31: 0.5409836065573771, 32: 0.515625, 33: 0.55}\n",
      "----------------------------------------------------------------------------------------------------\n",
      "betweenness centrality\n",
      "{0: 0.4376352813852813, 1: 0.053936688311688304, 2: 0.14365680615680618, 3: 0.011909271284271284, 4: 0.0006313131313131313, 5: 0.029987373737373736, 6: 0.029987373737373736, 7: 0.0, 8: 0.05592682780182783, 9: 0.0008477633477633477, 10: 0.0006313131313131313, 11: 0.0, 12: 0.0, 13: 0.04586339586339585, 14: 0.0, 15: 0.0, 16: 0.0, 17: 0.0, 18: 0.0, 19: 0.0324750481000481, 20: 0.0, 21: 0.0, 22: 0.0, 23: 0.017613636363636366, 24: 0.0022095959595959595, 25: 0.0038404882154882154, 26: 0.0, 27: 0.022333453583453584, 28: 0.0017947330447330447, 29: 0.002922077922077922, 30: 0.014411976911976909, 31: 0.1382756132756133, 32: 0.14524711399711396, 33: 0.3040749759499759}\n",
      "----------------------------------------------------------------------------------------------------\n",
      "eigenvector centrality\n",
      "{0: 0.3554834941851943, 1: 0.2659538704545025, 2: 0.31718938996844476, 3: 0.2111740783205706, 4: 0.07596645881657382, 5: 0.07948057788594247, 6: 0.07948057788594247, 7: 0.17095511498035434, 8: 0.2274050914716605, 9: 0.10267519030637758, 10: 0.07596645881657381, 11: 0.05285416945233648, 12: 0.08425192086558088, 13: 0.22646969838808148, 14: 0.10140627846270832, 15: 0.10140627846270832, 16: 0.023634794260596875, 17: 0.09239675666845953, 18: 0.10140627846270832, 19: 0.14791134007618667, 20: 0.10140627846270832, 21: 0.09239675666845953, 22: 0.10140627846270832, 23: 0.15012328691726787, 24: 0.05705373563802805, 25: 0.05920820250279008, 26: 0.07558192219009324, 27: 0.13347932684333308, 28: 0.13107925627221215, 29: 0.13496528673866567, 30: 0.17476027834493085, 31: 0.19103626979791702, 32: 0.3086510477336959, 33: 0.373371213013235}\n",
      "----------------------------------------------------------------------------------------------------\n",
      "Clusters of node 1\n",
      "0.15\n",
      "----------------------------------------------------------------------------------------------------\n",
      "neighbouring hopset\n",
      "24\n",
      "----------------------------------------------------------------------------------------------------\n"
     ]
    }
   ],
   "metadata": {}
  },
  {
   "cell_type": "code",
   "execution_count": 16,
   "source": [
    "# Finding Centralities of medium size graph, i.e. web-edu\n",
    "\n",
    "print(\"web-edu :\")\n",
    "nodes_interest1 = G1.nodes_of_interest()\n",
    "nodes_interest2 = G2.nodes_of_interest()\n",
    "nodes_interest3 = G3.nodes_of_interest()\n",
    "for i in nodes_interest3:\n",
    "    print(\"node \", i)\n",
    "    cc2 = G3.closeness_centrality_node(i)\n",
    "    clc2 = G3.clustering_coefficient_node(i)\n",
    "    lfvc_val2 = G3.lfvc_node(i)\n",
    "    nhc2 = G3.neighbourhood_hopset(i,2)\n",
    "    print((\"-\"*100))\n",
    "    print(\"lfvc\")\n",
    "    print(lfvc_val2)\n",
    "    print((\"-\"*100))\n",
    "    print((\"-\"*100))\n",
    "    print(\"closeness centrality\")\n",
    "    print(cc2)\n",
    "    print((\"-\"*100))\n",
    "    print((\"-\"*100))\n",
    "    print(\"Clusters of node 1\")\n",
    "    print(clc2)\n",
    "    print((\"-\"*100))\n",
    "    print(\"neighbouring hopset\")\n",
    "    print(nhc2)\n",
    "    print((\"-\"*100))"
   ],
   "outputs": [
    {
     "output_type": "stream",
     "name": "stdout",
     "text": [
      "web-edu :\n",
      "node  20082\n",
      "----------------------------------------------------------------------------------------------------\n",
      "lfvc\n",
      "0.0002918247320751732\n",
      "----------------------------------------------------------------------------------------------------\n",
      "----------------------------------------------------------------------------------------------------\n",
      "closeness centrality\n",
      "0.24580010648910322\n",
      "----------------------------------------------------------------------------------------------------\n",
      "----------------------------------------------------------------------------------------------------\n",
      "Clusters of node 1\n",
      "0\n",
      "----------------------------------------------------------------------------------------------------\n",
      "neighbouring hopset\n",
      "102\n",
      "----------------------------------------------------------------------------------------------------\n",
      "node  20081\n",
      "----------------------------------------------------------------------------------------------------\n",
      "lfvc\n",
      "0.013822372411167148\n",
      "----------------------------------------------------------------------------------------------------\n",
      "----------------------------------------------------------------------------------------------------\n",
      "closeness centrality\n",
      "0.27155326874057645\n",
      "----------------------------------------------------------------------------------------------------\n",
      "----------------------------------------------------------------------------------------------------\n",
      "Clusters of node 1\n",
      "0.2\n",
      "----------------------------------------------------------------------------------------------------\n",
      "neighbouring hopset\n",
      "1590\n",
      "----------------------------------------------------------------------------------------------------\n",
      "node  0\n",
      "----------------------------------------------------------------------------------------------------\n",
      "lfvc\n",
      "7.920438705271226e-05\n",
      "----------------------------------------------------------------------------------------------------\n",
      "----------------------------------------------------------------------------------------------------\n",
      "closeness centrality\n",
      "0.2612822431122532\n",
      "----------------------------------------------------------------------------------------------------\n",
      "----------------------------------------------------------------------------------------------------\n",
      "Clusters of node 1\n",
      "0\n",
      "----------------------------------------------------------------------------------------------------\n",
      "neighbouring hopset\n",
      "386\n",
      "----------------------------------------------------------------------------------------------------\n",
      "node  40163\n",
      "----------------------------------------------------------------------------------------------------\n",
      "lfvc\n",
      "0.0003307219933567786\n",
      "----------------------------------------------------------------------------------------------------\n",
      "----------------------------------------------------------------------------------------------------\n",
      "closeness centrality\n",
      "0.25668015159358604\n",
      "----------------------------------------------------------------------------------------------------\n",
      "----------------------------------------------------------------------------------------------------\n",
      "Clusters of node 1\n",
      "0.5\n",
      "----------------------------------------------------------------------------------------------------\n",
      "neighbouring hopset\n",
      "241\n",
      "----------------------------------------------------------------------------------------------------\n"
     ]
    }
   ],
   "metadata": {}
  },
  {
   "cell_type": "code",
   "execution_count": null,
   "source": [
    "# Finding Centralities of largest size graph, i.e. tech-internet-as\n",
    "\n",
    "print(\"tech-internet-as :\")\n",
    "# dc3 = G3.degree_centrality()\n",
    "# cc3 = G3.closeness_centrality()\n",
    "# bc3 = G3.betweenness_centrality()\n",
    "# ec3 = G3.eigenvector_centrality()\n",
    "# clc3 = G3.clustering_coefficient_node(0)\n",
    "lfvc_val3 = G3.lfvc_node(0)\n",
    "nhc3 = G3.neighbourhood_hopset(0,2)\n",
    "print((\"-\"*100))\n",
    "print(\"lfvc\")\n",
    "print(lfvc_val3)\n",
    "# print((\"-\"*100))\n",
    "# print(\"degree centrality\")\n",
    "# print(dc3)\n",
    "# print((\"-\"*100))\n",
    "# print(\"closeness centrality\")\n",
    "# print(cc3)\n",
    "# print((\"-\"*100))\n",
    "# print(\"betweenness centrality\")\n",
    "# print(bc3)\n",
    "# print((\"-\"*100))\n",
    "# print(\"eigenvector centrality\")\n",
    "# print(ec3)\n",
    "# print((\"-\"*100))\n",
    "# print(\"Clusters of node 1\")\n",
    "# print(clc3)\n",
    "# print((\"-\"*100))\n",
    "# print(\"neighbouring hopset\")\n",
    "# print(nhc3)\n",
    "# print((\"-\"*100))"
   ],
   "outputs": [
    {
     "output_type": "stream",
     "name": "stdout",
     "text": [
      "tech-internet-as :\n",
      "----------------------------------------------------------------------------------------------------\n",
      "lfvc\n",
      "7.920438705271443e-05\n"
     ]
    }
   ],
   "metadata": {}
  },
  {
   "cell_type": "code",
   "execution_count": null,
   "source": [],
   "outputs": [],
   "metadata": {}
  }
 ],
 "metadata": {
  "orig_nbformat": 4,
  "language_info": {
   "name": "python",
   "version": "3.9.5",
   "mimetype": "text/x-python",
   "codemirror_mode": {
    "name": "ipython",
    "version": 3
   },
   "pygments_lexer": "ipython3",
   "nbconvert_exporter": "python",
   "file_extension": ".py"
  },
  "kernelspec": {
   "name": "python3",
   "display_name": "Python 3.9.5 64-bit"
  },
  "interpreter": {
   "hash": "916dbcbb3f70747c44a77c7bcd40155683ae19c65e1c03b4aa3499c5328201f1"
  }
 },
 "nbformat": 4,
 "nbformat_minor": 2
}