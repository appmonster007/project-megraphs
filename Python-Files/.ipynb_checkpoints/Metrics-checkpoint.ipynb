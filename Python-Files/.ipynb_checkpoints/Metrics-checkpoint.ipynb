{
 "cells": [
  {
   "cell_type": "code",
   "execution_count": 1,
   "id": "f6f5589f",
   "metadata": {},
   "outputs": [],
   "source": [
    "from os import stat\n",
    "from networkx.algorithms.components.connected import is_connected\n",
    "from networkx.classes.function import neighbors\n",
    "from networkx.linalg.algebraicconnectivity import fiedler_vector\n",
    "import scipy as sp\n",
    "import networkx as nx\n",
    "from scipy.io import mmread\n",
    "from scipy.sparse.coo import coo_matrix\n",
    "from scipy.sparse.linalg import eigs\n",
    "from numpy import linalg as LA\n",
    "import csv\n",
    "import statistics"
   ]
  },
  {
   "cell_type": "code",
   "execution_count": 2,
   "id": "36503b56",
   "metadata": {},
   "outputs": [],
   "source": [
    "class Graph:\n",
    "    def __init__(self, sparse):\n",
    "        self.graph = nx.from_scipy_sparse_matrix(sparse)\n",
    "        self.adj = nx.adjacency_matrix(self.graph)\n",
    "        self.laplacian = nx.laplacian_matrix(self.graph)\n",
    "    def degree_centrality(self):\n",
    "        return nx.degree_centrality(self.graph)\n",
    "    def closeness_centrality(self):\n",
    "        return nx.closeness_centrality(self.graph)\n",
    "    def closeness_centrality_node(self, node):\n",
    "        return nx.closeness_centrality(self.graph, node)\n",
    "    def betweenness_centrality(self):\n",
    "        return nx.betweenness_centrality(self.graph, k = min(self.graph.number_of_nodes() , 500))\n",
    "    def eigenvector_centrality(self):\n",
    "        return nx.eigenvector_centrality(self.graph)\n",
    "    def is_connected(self):\n",
    "        return nx.is_connected(self.graph)\n",
    "    def lfvc(self):\n",
    "        if (not self.is_connected()):\n",
    "            return \"Not possible\"\n",
    "        fiedler_vector = nx.fiedler_vector(self.graph)\n",
    "        lfvclist = []\n",
    "        for i in self.graph.nodes(data = True):\n",
    "            lfvcthis = 0\n",
    "            for j in self.graph.neighbors(i[0]):\n",
    "                lfvcthis += (fiedler_vector[j]-fiedler_vector[i[0]])*(fiedler_vector[j]-fiedler_vector[i[0]])\n",
    "            lfvclist.append(lfvcthis)\n",
    "        return lfvclist\n",
    "    def lfvc_node(self, node):\n",
    "        if (not self.is_connected()):\n",
    "            return \"Not possible\"\n",
    "        lfvcthis = 0\n",
    "        nodes = list(self.graph.nodes(data = True))\n",
    "        n = nodes[node]\n",
    "        fiedler_vector = nx.fiedler_vector(self.graph)\n",
    "        fiedler = fiedler_vector[n[0]]\n",
    "        for j in self.graph.neighbors(n[0]):\n",
    "            lfvcthis += (fiedler_vector[j]-fiedler)*(fiedler_vector[j]-fiedler)\n",
    "        return lfvcthis\n",
    "    def neighbourhood_hopset(self, index, k = 10):\n",
    "        nbrs = set([index])\n",
    "        for l in range(k):\n",
    "            nbrs = set((nbr for n in nbrs for nbr in self.graph[n]))\n",
    "        return len(nbrs)\n",
    "    def clustering_coefficient(self):\n",
    "        return nx.clustering(self.graph)\n",
    "    def clustering_coefficient_node(self, node):\n",
    "        return nx.clustering(self.graph, node)\n",
    "    def ego_centrality_node(self, node):\n",
    "        g = nx.ego_graph(self.graph, node)\n",
    "        nodes = list(g.nodes(data = True))\n",
    "        n = node\n",
    "        for i in nodes:\n",
    "            if i[0] == node:\n",
    "                n = i\n",
    "                break\n",
    "        centrality =  nx.betweenness_centrality(g)\n",
    "        return centrality[node]\n",
    "    def nodes_of_interest(self):\n",
    "        l = list(nx.degree_centrality(self.graph))\n",
    "        mean = statistics.mean(l)\n",
    "        median = statistics.median_high(l)\n",
    "        closest_mean = min(l, key = lambda x:abs(x-mean))\n",
    "        max_value = max(l)\n",
    "        min_value = min(l)\n",
    "        return l.index(median), l.index(closest_mean), l.index(min_value), l.index(max_value)\n"
   ]
  },
  {
   "cell_type": "code",
   "execution_count": 3,
   "id": "5283516a",
   "metadata": {},
   "outputs": [
    {
     "name": "stdout",
     "output_type": "stream",
     "text": [
      "graphs made\n"
     ]
    }
   ],
   "source": [
    "karate = mmread('soc-karate.mtx')\n",
    "internet = mmread('tech-internet-as.mtx')\n",
    "webedu = mmread('web-edu.mtx')\n",
    "G = Graph(karate)\n",
    "G1 = Graph(webedu)\n",
    "G2 = Graph(internet)\n",
    "print(\"graphs made\")"
   ]
  },
  {
   "cell_type": "code",
   "execution_count": 22,
   "id": "94335984",
   "metadata": {},
   "outputs": [
    {
     "name": "stdout",
     "output_type": "stream",
     "text": [
      "0.0\n",
      "1.0\n",
      "Ego centrality measured\n"
     ]
    }
   ],
   "source": [
    "#print(G.ego_centrality_node(4))\n",
    "print(G1.ego_centrality_node(4))\n",
    "print(G2.ego_centrality_node(4))\n",
    "print(\"Ego centrality measured\")"
   ]
  },
  {
   "cell_type": "code",
   "execution_count": 23,
   "id": "4f342ac9",
   "metadata": {},
   "outputs": [],
   "source": [
    "G2.lfvc_node(0)"
   ]
  },
  {
   "cell_type": "code",
   "execution_count": 11,
   "id": "9e8a9197",
   "metadata": {},
   "outputs": [],
   "source": [
    "cc1 = G2.closeness_centrality_node(0)"
   ]
  },
  {
   "cell_type": "code",
   "execution_count": 7,
   "id": "77e121c3",
   "metadata": {},
   "outputs": [
    {
     "name": "stdout",
     "output_type": "stream",
     "text": [
      "386\n"
     ]
    }
   ],
   "source": [
    "print(G2.neighbourhood_hopset(0,2))"
   ]
  },
  {
   "cell_type": "code",
   "execution_count": 8,
   "id": "2768ac5f",
   "metadata": {},
   "outputs": [],
   "source": [
    "clc2 = G2.clustering_coefficient_node(0)"
   ]
  },
  {
   "cell_type": "code",
   "execution_count": null,
   "id": "240af664",
   "metadata": {},
   "outputs": [],
   "source": [
    "#LFVC not found"
   ]
  },
  {
   "cell_type": "code",
   "execution_count": 9,
   "id": "85388d44",
   "metadata": {},
   "outputs": [
    {
     "ename": "KeyboardInterrupt",
     "evalue": "",
     "output_type": "error",
     "traceback": [
      "\u001b[0;31m---------------------------------------------------------------------------\u001b[0m",
      "\u001b[0;31mKeyboardInterrupt\u001b[0m                         Traceback (most recent call last)",
      "\u001b[0;32m/tmp/ipykernel_13276/3831358507.py\u001b[0m in \u001b[0;36m<module>\u001b[0;34m\u001b[0m\n\u001b[0;32m----> 1\u001b[0;31m \u001b[0mbc2\u001b[0m \u001b[0;34m=\u001b[0m \u001b[0mG2\u001b[0m\u001b[0;34m.\u001b[0m\u001b[0mbetweenness_centrality\u001b[0m\u001b[0;34m(\u001b[0m\u001b[0;34m)\u001b[0m\u001b[0;34m\u001b[0m\u001b[0;34m\u001b[0m\u001b[0m\n\u001b[0m",
      "\u001b[0;32m/tmp/ipykernel_13276/1427156981.py\u001b[0m in \u001b[0;36mbetweenness_centrality\u001b[0;34m(self)\u001b[0m\n\u001b[1;32m     11\u001b[0m         \u001b[0;32mreturn\u001b[0m \u001b[0mnx\u001b[0m\u001b[0;34m.\u001b[0m\u001b[0mcloseness_centrality\u001b[0m\u001b[0;34m(\u001b[0m\u001b[0mself\u001b[0m\u001b[0;34m.\u001b[0m\u001b[0mgraph\u001b[0m\u001b[0;34m,\u001b[0m \u001b[0mnode\u001b[0m\u001b[0;34m)\u001b[0m\u001b[0;34m\u001b[0m\u001b[0;34m\u001b[0m\u001b[0m\n\u001b[1;32m     12\u001b[0m     \u001b[0;32mdef\u001b[0m \u001b[0mbetweenness_centrality\u001b[0m\u001b[0;34m(\u001b[0m\u001b[0mself\u001b[0m\u001b[0;34m)\u001b[0m\u001b[0;34m:\u001b[0m\u001b[0;34m\u001b[0m\u001b[0;34m\u001b[0m\u001b[0m\n\u001b[0;32m---> 13\u001b[0;31m         \u001b[0;32mreturn\u001b[0m \u001b[0mnx\u001b[0m\u001b[0;34m.\u001b[0m\u001b[0mbetweenness_centrality\u001b[0m\u001b[0;34m(\u001b[0m\u001b[0mself\u001b[0m\u001b[0;34m.\u001b[0m\u001b[0mgraph\u001b[0m\u001b[0;34m,\u001b[0m \u001b[0mk\u001b[0m \u001b[0;34m=\u001b[0m \u001b[0mmin\u001b[0m\u001b[0;34m(\u001b[0m\u001b[0mself\u001b[0m\u001b[0;34m.\u001b[0m\u001b[0mgraph\u001b[0m\u001b[0;34m.\u001b[0m\u001b[0mnumber_of_nodes\u001b[0m\u001b[0;34m(\u001b[0m\u001b[0;34m)\u001b[0m \u001b[0;34m,\u001b[0m \u001b[0;36m500\u001b[0m\u001b[0;34m)\u001b[0m\u001b[0;34m)\u001b[0m\u001b[0;34m\u001b[0m\u001b[0;34m\u001b[0m\u001b[0m\n\u001b[0m\u001b[1;32m     14\u001b[0m     \u001b[0;32mdef\u001b[0m \u001b[0meigenvector_centrality\u001b[0m\u001b[0;34m(\u001b[0m\u001b[0mself\u001b[0m\u001b[0;34m)\u001b[0m\u001b[0;34m:\u001b[0m\u001b[0;34m\u001b[0m\u001b[0;34m\u001b[0m\u001b[0m\n\u001b[1;32m     15\u001b[0m         \u001b[0;32mreturn\u001b[0m \u001b[0mnx\u001b[0m\u001b[0;34m.\u001b[0m\u001b[0meigenvector_centrality\u001b[0m\u001b[0;34m(\u001b[0m\u001b[0mself\u001b[0m\u001b[0;34m.\u001b[0m\u001b[0mgraph\u001b[0m\u001b[0;34m)\u001b[0m\u001b[0;34m\u001b[0m\u001b[0;34m\u001b[0m\u001b[0m\n",
      "\u001b[0;32m~/.local/lib/python3.9/site-packages/networkx/utils/decorators.py\u001b[0m in \u001b[0;36margmap_betweenness_centrality_9\u001b[0;34m(G, k, normalized, weight, endpoints, seed)\u001b[0m\n\u001b[1;32m      3\u001b[0m \u001b[0;32mfrom\u001b[0m \u001b[0mcontextlib\u001b[0m \u001b[0;32mimport\u001b[0m \u001b[0mcontextmanager\u001b[0m\u001b[0;34m\u001b[0m\u001b[0;34m\u001b[0m\u001b[0m\n\u001b[1;32m      4\u001b[0m \u001b[0;32mfrom\u001b[0m \u001b[0mpathlib\u001b[0m \u001b[0;32mimport\u001b[0m \u001b[0mPath\u001b[0m\u001b[0;34m\u001b[0m\u001b[0;34m\u001b[0m\u001b[0m\n\u001b[0;32m----> 5\u001b[0;31m \u001b[0;32mimport\u001b[0m \u001b[0mwarnings\u001b[0m\u001b[0;34m\u001b[0m\u001b[0;34m\u001b[0m\u001b[0m\n\u001b[0m\u001b[1;32m      6\u001b[0m \u001b[0;34m\u001b[0m\u001b[0m\n\u001b[1;32m      7\u001b[0m \u001b[0;32mimport\u001b[0m \u001b[0mnetworkx\u001b[0m \u001b[0;32mas\u001b[0m \u001b[0mnx\u001b[0m\u001b[0;34m\u001b[0m\u001b[0;34m\u001b[0m\u001b[0m\n",
      "\u001b[0;32m~/.local/lib/python3.9/site-packages/networkx/algorithms/centrality/betweenness.py\u001b[0m in \u001b[0;36mbetweenness_centrality\u001b[0;34m(G, k, normalized, weight, endpoints, seed)\u001b[0m\n\u001b[1;32m    134\u001b[0m             \u001b[0mbetweenness\u001b[0m\u001b[0;34m,\u001b[0m \u001b[0mdelta\u001b[0m \u001b[0;34m=\u001b[0m \u001b[0m_accumulate_endpoints\u001b[0m\u001b[0;34m(\u001b[0m\u001b[0mbetweenness\u001b[0m\u001b[0;34m,\u001b[0m \u001b[0mS\u001b[0m\u001b[0;34m,\u001b[0m \u001b[0mP\u001b[0m\u001b[0;34m,\u001b[0m \u001b[0msigma\u001b[0m\u001b[0;34m,\u001b[0m \u001b[0ms\u001b[0m\u001b[0;34m)\u001b[0m\u001b[0;34m\u001b[0m\u001b[0;34m\u001b[0m\u001b[0m\n\u001b[1;32m    135\u001b[0m         \u001b[0;32melse\u001b[0m\u001b[0;34m:\u001b[0m\u001b[0;34m\u001b[0m\u001b[0;34m\u001b[0m\u001b[0m\n\u001b[0;32m--> 136\u001b[0;31m             \u001b[0mbetweenness\u001b[0m\u001b[0;34m,\u001b[0m \u001b[0mdelta\u001b[0m \u001b[0;34m=\u001b[0m \u001b[0m_accumulate_basic\u001b[0m\u001b[0;34m(\u001b[0m\u001b[0mbetweenness\u001b[0m\u001b[0;34m,\u001b[0m \u001b[0mS\u001b[0m\u001b[0;34m,\u001b[0m \u001b[0mP\u001b[0m\u001b[0;34m,\u001b[0m \u001b[0msigma\u001b[0m\u001b[0;34m,\u001b[0m \u001b[0ms\u001b[0m\u001b[0;34m)\u001b[0m\u001b[0;34m\u001b[0m\u001b[0;34m\u001b[0m\u001b[0m\n\u001b[0m\u001b[1;32m    137\u001b[0m     \u001b[0;31m# rescaling\u001b[0m\u001b[0;34m\u001b[0m\u001b[0;34m\u001b[0m\u001b[0;34m\u001b[0m\u001b[0m\n\u001b[1;32m    138\u001b[0m     betweenness = _rescale(\n",
      "\u001b[0;32m~/.local/lib/python3.9/site-packages/networkx/algorithms/centrality/betweenness.py\u001b[0m in \u001b[0;36m_accumulate_basic\u001b[0;34m(betweenness, S, P, sigma, s)\u001b[0m\n\u001b[1;32m    317\u001b[0m         \u001b[0mcoeff\u001b[0m \u001b[0;34m=\u001b[0m \u001b[0;34m(\u001b[0m\u001b[0;36m1\u001b[0m \u001b[0;34m+\u001b[0m \u001b[0mdelta\u001b[0m\u001b[0;34m[\u001b[0m\u001b[0mw\u001b[0m\u001b[0;34m]\u001b[0m\u001b[0;34m)\u001b[0m \u001b[0;34m/\u001b[0m \u001b[0msigma\u001b[0m\u001b[0;34m[\u001b[0m\u001b[0mw\u001b[0m\u001b[0;34m]\u001b[0m\u001b[0;34m\u001b[0m\u001b[0;34m\u001b[0m\u001b[0m\n\u001b[1;32m    318\u001b[0m         \u001b[0;32mfor\u001b[0m \u001b[0mv\u001b[0m \u001b[0;32min\u001b[0m \u001b[0mP\u001b[0m\u001b[0;34m[\u001b[0m\u001b[0mw\u001b[0m\u001b[0;34m]\u001b[0m\u001b[0;34m:\u001b[0m\u001b[0;34m\u001b[0m\u001b[0;34m\u001b[0m\u001b[0m\n\u001b[0;32m--> 319\u001b[0;31m             \u001b[0mdelta\u001b[0m\u001b[0;34m[\u001b[0m\u001b[0mv\u001b[0m\u001b[0;34m]\u001b[0m \u001b[0;34m+=\u001b[0m \u001b[0msigma\u001b[0m\u001b[0;34m[\u001b[0m\u001b[0mv\u001b[0m\u001b[0;34m]\u001b[0m \u001b[0;34m*\u001b[0m \u001b[0mcoeff\u001b[0m\u001b[0;34m\u001b[0m\u001b[0;34m\u001b[0m\u001b[0m\n\u001b[0m\u001b[1;32m    320\u001b[0m         \u001b[0;32mif\u001b[0m \u001b[0mw\u001b[0m \u001b[0;34m!=\u001b[0m \u001b[0ms\u001b[0m\u001b[0;34m:\u001b[0m\u001b[0;34m\u001b[0m\u001b[0;34m\u001b[0m\u001b[0m\n\u001b[1;32m    321\u001b[0m             \u001b[0mbetweenness\u001b[0m\u001b[0;34m[\u001b[0m\u001b[0mw\u001b[0m\u001b[0;34m]\u001b[0m \u001b[0;34m+=\u001b[0m \u001b[0mdelta\u001b[0m\u001b[0;34m[\u001b[0m\u001b[0mw\u001b[0m\u001b[0;34m]\u001b[0m\u001b[0;34m\u001b[0m\u001b[0;34m\u001b[0m\u001b[0m\n",
      "\u001b[0;31mKeyboardInterrupt\u001b[0m: "
     ]
    }
   ],
   "source": [
    "bc2 = G2.betweenness_centrality()"
   ]
  },
  {
   "cell_type": "code",
   "execution_count": null,
   "id": "1c4b7f35",
   "metadata": {},
   "outputs": [],
   "source": [
    "#neighbourhood function not found"
   ]
  },
  {
   "cell_type": "markdown",
   "id": "0f27cf25",
   "metadata": {},
   "source": [
    "## Computing eigenvalues of L:"
   ]
  },
  {
   "cell_type": "code",
   "execution_count": null,
   "id": "b94965c8",
   "metadata": {},
   "outputs": [
    {
     "name": "stdout",
     "output_type": "stream",
     "text": [
      "(34,) (34, 34)\n"
     ]
    }
   ],
   "source": [
    "ec2 = G2.eigenvector_centrality()"
   ]
  }
 ],
 "metadata": {
  "interpreter": {
   "hash": "916dbcbb3f70747c44a77c7bcd40155683ae19c65e1c03b4aa3499c5328201f1"
  },
  "kernelspec": {
   "display_name": "Python 3 (ipykernel)",
   "language": "python",
   "name": "python3"
  },
  "language_info": {
   "codemirror_mode": {
    "name": "ipython",
    "version": 3
   },
   "file_extension": ".py",
   "mimetype": "text/x-python",
   "name": "python",
   "nbconvert_exporter": "python",
   "pygments_lexer": "ipython3",
   "version": "3.9.5"
  }
 },
 "nbformat": 4,
 "nbformat_minor": 5
}
