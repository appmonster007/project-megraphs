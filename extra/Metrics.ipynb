{
 "cells": [
  {
   "cell_type": "code",
   "execution_count": 14,
   "source": [
    "from os import stat\n",
    "from networkx.algorithms.components.connected import is_connected\n",
    "from networkx.classes.function import neighbors\n",
    "from networkx.linalg.algebraicconnectivity import fiedler_vector\n",
    "import scipy as sp\n",
    "import numpy as np\n",
    "import networkx as nx\n",
    "from scipy.io import mmread\n",
    "from scipy.sparse.coo import coo_matrix\n",
    "from scipy.sparse.linalg import eigs\n",
    "import csv\n",
    "import statistics"
   ],
   "outputs": [],
   "metadata": {}
  },
  {
   "cell_type": "code",
   "execution_count": 3,
   "source": [
    "class Graph:\n",
    "    def __init__(self, sparse):\n",
    "        self.graph = nx.from_scipy_sparse_matrix(sparse)\n",
    "        self.adj = nx.adjacency_matrix(self.graph)\n",
    "        self.laplacian = nx.laplacian_matrix(self.graph)\n",
    "    def degree_centrality(self):\n",
    "        return nx.degree_centrality(self.graph)\n",
    "    def closeness_centrality(self):\n",
    "        return nx.closeness_centrality(self.graph)\n",
    "    def closeness_centrality_node(self, node):\n",
    "        return nx.closeness_centrality(self.graph, node)\n",
    "    def betweenness_centrality(self):\n",
    "        return nx.betweenness_centrality(self.graph, k = min(self.graph.number_of_nodes() , 500))\n",
    "    def eigenvector_centrality(self):\n",
    "        return nx.eigenvector_centrality(self.graph)\n",
    "    def is_connected(self):\n",
    "        return nx.is_connected(self.graph)\n",
    "    def lfvc(self):\n",
    "        if (not self.is_connected()):\n",
    "            return \"Not possible\"\n",
    "        fiedler_vector = nx.fiedler_vector(self.graph)\n",
    "        lfvclist = []\n",
    "        for i in self.graph.nodes(data = True):\n",
    "            lfvcthis = 0\n",
    "            for j in self.graph.neighbors(i[0]):\n",
    "                lfvcthis += (fiedler_vector[j]-fiedler_vector[i[0]])*(fiedler_vector[j]-fiedler_vector[i[0]])\n",
    "            lfvclist.append(lfvcthis)\n",
    "        return lfvclist\n",
    "    def lfvc_node(self, node):\n",
    "        if (not self.is_connected()):\n",
    "            return \"Not possible\"\n",
    "        lfvcthis = 0\n",
    "        nodes = list(self.graph.nodes(data = True))\n",
    "        n = nodes[node]\n",
    "        fiedler_vector = nx.fiedler_vector(self.graph)\n",
    "        fiedler = fiedler_vector[n[0]]\n",
    "        for j in self.graph.neighbors(n[0]):\n",
    "            lfvcthis += (fiedler_vector[j]-fiedler)*(fiedler_vector[j]-fiedler)\n",
    "        return lfvcthis\n",
    "    def neighbourhood_hopset(self, index, k = 10):\n",
    "        nbrs = set([index])\n",
    "        for l in range(k):\n",
    "            nbrs = set((nbr for n in nbrs for nbr in self.graph[n]))\n",
    "        return len(nbrs)\n",
    "    def clustering_coefficient(self):\n",
    "        return nx.clustering(self.graph)\n",
    "    def clustering_coefficient_node(self, node):\n",
    "        return nx.clustering(self.graph, node)\n",
    "    def ego_centrality_node(self, node):\n",
    "        g = nx.ego_graph(self.graph, node)\n",
    "        nodes = list(g.nodes(data = True))\n",
    "        n = node\n",
    "        for i in nodes:\n",
    "            if i[0] == node:\n",
    "                n = i\n",
    "                break\n",
    "        centrality =  nx.betweenness_centrality(g)\n",
    "        return centrality[node]\n",
    "    def nodes_of_interest(self):\n",
    "        l = list(nx.degree_centrality(self.graph))\n",
    "        mean = statistics.mean(l)\n",
    "        median = statistics.median_high(l)\n",
    "        closest_mean = min(l, key = lambda x:abs(x-mean))\n",
    "        max_value = max(l)\n",
    "        min_value = min(l)\n",
    "        return l.index(median), l.index(closest_mean), l.index(min_value), l.index(max_value)\n"
   ],
   "outputs": [],
   "metadata": {}
  },
  {
   "cell_type": "code",
   "execution_count": 4,
   "source": [
    "karate = mmread('soc-karate.mtx')\n",
    "internet = mmread('tech-internet-as.mtx')\n",
    "webedu = mmread('web-edu.mtx')\n",
    "G = Graph(karate)\n",
    "G1 = Graph(webedu)\n",
    "G2 = Graph(internet)\n",
    "print(\"graphs made\")"
   ],
   "outputs": [
    {
     "output_type": "stream",
     "name": "stdout",
     "text": [
      "graphs made\n"
     ]
    }
   ],
   "metadata": {}
  },
  {
   "cell_type": "code",
   "execution_count": 4,
   "source": [
    "#print(G.ego_centrality_node(4))\n",
    "print(G1.ego_centrality_node(4))\n",
    "print(G2.ego_centrality_node(4))\n",
    "print(\"Ego centrality measured\")"
   ],
   "outputs": [
    {
     "output_type": "stream",
     "name": "stdout",
     "text": [
      "0.0\n",
      "1.0\n",
      "Ego centrality measured\n"
     ]
    }
   ],
   "metadata": {}
  },
  {
   "cell_type": "code",
   "execution_count": null,
   "source": [
    "G2.lfvc_node(0)"
   ],
   "outputs": [],
   "metadata": {}
  },
  {
   "cell_type": "code",
   "execution_count": null,
   "source": [
    "cc1 = G2.closeness_centrality_node(0)"
   ],
   "outputs": [],
   "metadata": {}
  },
  {
   "cell_type": "code",
   "execution_count": null,
   "source": [
    "print(G2.neighbourhood_hopset(0,2))"
   ],
   "outputs": [],
   "metadata": {}
  },
  {
   "cell_type": "code",
   "execution_count": null,
   "source": [
    "clc2 = G2.clustering_coefficient_node(0)"
   ],
   "outputs": [],
   "metadata": {}
  },
  {
   "cell_type": "code",
   "execution_count": null,
   "source": [
    "#LFVC not found"
   ],
   "outputs": [],
   "metadata": {}
  },
  {
   "cell_type": "code",
   "execution_count": null,
   "source": [
    "bc2 = G2.betweenness_centrality()"
   ],
   "outputs": [],
   "metadata": {}
  },
  {
   "cell_type": "code",
   "execution_count": null,
   "source": [
    "#neighbourhood function not found"
   ],
   "outputs": [],
   "metadata": {}
  },
  {
   "cell_type": "markdown",
   "source": [
    "## Computing eigenvalues of L:"
   ],
   "metadata": {}
  },
  {
   "cell_type": "code",
   "execution_count": 6,
   "source": [
    "print(eigs(karate))"
   ],
   "outputs": [
    {
     "output_type": "stream",
     "name": "stdout",
     "text": [
      "(array([ 6.72569773+0.j,  4.97707423+0.j, -4.48722919+0.j, -3.44793486+0.j,\n",
      "        2.9165067 +0.j, -3.11069092+0.j]), array([[ 0.35549144+0.j, -0.38686107+0.j,  0.31716992+0.j,\n",
      "         0.27730159+0.j, -0.19785758+0.j,  0.55468453+0.j],\n",
      "       [ 0.26595992+0.j, -0.26893952+0.j,  0.12496128+0.j,\n",
      "         0.10787731+0.j,  0.25029731+0.j,  0.01703733+0.j],\n",
      "       [ 0.3171925 +0.j, -0.13115956+0.j,  0.02726159+0.j,\n",
      "        -0.53924221+0.j,  0.2466749 +0.j,  0.13327895+0.j],\n",
      "       [ 0.21117972+0.j, -0.25294583+0.j, -0.01922241+0.j,\n",
      "         0.01990698+0.j,  0.22492987+0.j, -0.05449052+0.j],\n",
      "       [ 0.07596882+0.j, -0.13389698+0.j, -0.04807417+0.j,\n",
      "        -0.04907823+0.j, -0.32483665+0.j, -0.10326956+0.j],\n",
      "       [ 0.07948305+0.j, -0.14565715+0.j, -0.05337592+0.j,\n",
      "        -0.0590048 +0.j, -0.42469404+0.j, -0.13017529+0.j],\n",
      "       [ 0.07948305+0.j, -0.14565715+0.j, -0.05337592+0.j,\n",
      "        -0.0590048 +0.j, -0.42469404+0.j, -0.13017529+0.j],\n",
      "       [ 0.17095975+0.j, -0.20893922+0.j, -0.10032257+0.j,\n",
      "         0.03890918+0.j,  0.17968226+0.j, -0.20912084+0.j],\n",
      "       [ 0.22740391+0.j,  0.05501457+0.j, -0.2204497 +0.j,\n",
      "         0.09086161+0.j,  0.0150015 +0.j, -0.12180663+0.j],\n",
      "       [ 0.10267425+0.j,  0.04810648+0.j, -0.12216865+0.j,\n",
      "         0.25020168+0.j,  0.07282679+0.j,  0.00069694+0.j],\n",
      "       [ 0.07596882+0.j, -0.13389698+0.j, -0.04807417+0.j,\n",
      "        -0.04907823+0.j, -0.32483665+0.j, -0.10326956+0.j],\n",
      "       [ 0.0528557 +0.j, -0.07772861+0.j, -0.0706828 +0.j,\n",
      "        -0.08042541+0.j, -0.0678406 +0.j, -0.17831554+0.j],\n",
      "       [ 0.08425463+0.j, -0.12855081+0.j, -0.06639899+0.j,\n",
      "        -0.08619901+0.j,  0.00928244+0.j, -0.16079837+0.j],\n",
      "       [ 0.22647272+0.j, -0.13447999+0.j, -0.21641584+0.j,\n",
      "         0.13271516+0.j,  0.16793016+0.j, -0.16557845+0.j],\n",
      "       [ 0.10140326+0.j,  0.13966939+0.j, -0.17879433+0.j,\n",
      "        -0.00257184+0.j, -0.02451928+0.j,  0.16238337+0.j],\n",
      "       [ 0.10140326+0.j,  0.13966939+0.j, -0.17879433+0.j,\n",
      "        -0.00257184+0.j, -0.02451928+0.j,  0.16238337+0.j],\n",
      "       [ 0.02363563+0.j, -0.05853123+0.j,  0.02379015+0.j,\n",
      "         0.03422617+0.j, -0.29123474+0.j,  0.08369542+0.j],\n",
      "       [ 0.09239954+0.j, -0.13176428+0.j, -0.098531  +0.j,\n",
      "        -0.11171293+0.j,  0.01798032+0.j, -0.18379256+0.j],\n",
      "       [ 0.10140326+0.j,  0.13966939+0.j, -0.17879433+0.j,\n",
      "        -0.00257184+0.j, -0.02451928+0.j,  0.16238337+0.j],\n",
      "       [ 0.14791251+0.j, -0.05730506+0.j, -0.21462428+0.j,\n",
      "        -0.01790695+0.j,  0.00622822+0.j, -0.14025018+0.j],\n",
      "       [ 0.10140326+0.j,  0.13966939+0.j, -0.17879433+0.j,\n",
      "        -0.00257184+0.j, -0.02451928+0.j,  0.16238337+0.j],\n",
      "       [ 0.09239954+0.j, -0.13176428+0.j, -0.098531  +0.j,\n",
      "        -0.11171293+0.j,  0.01798032+0.j, -0.18379256+0.j],\n",
      "       [ 0.10140326+0.j,  0.13966939+0.j, -0.17879433+0.j,\n",
      "        -0.00257184+0.j, -0.02451928+0.j,  0.16238337+0.j],\n",
      "       [ 0.15011857+0.j,  0.21704695+0.j, -0.14433815+0.j,\n",
      "        -0.12488728+0.j, -0.07299487+0.j,  0.1736489 +0.j],\n",
      "       [ 0.05705244+0.j,  0.05641262+0.j,  0.06572081+0.j,\n",
      "        -0.06719349+0.j, -0.07776523+0.j,  0.04796601+0.j],\n",
      "       [ 0.05920647+0.j,  0.07548493+0.j,  0.07710226+0.j,\n",
      "         0.10879072+0.j, -0.10179932+0.j, -0.06772831+0.j],\n",
      "       [ 0.07557941+0.j,  0.11596526+0.j, -0.08777588+0.j,\n",
      "         0.09176582+0.j, -0.03256976+0.j,  0.01035659+0.j],\n",
      "       [ 0.13347715+0.j,  0.10305032+0.j, -0.10464841+0.j,\n",
      "         0.30591062+0.j,  0.02113478+0.j, -0.07054605+0.j],\n",
      "       [ 0.13107782+0.j,  0.06864757+0.j, -0.06258662+0.j,\n",
      "         0.30328347+0.j,  0.02271949+0.j,  0.00421161+0.j],\n",
      "       [ 0.13496082+0.j,  0.20657862+0.j, -0.12706663+0.j,\n",
      "         0.00703434+0.j, -0.06071485+0.j,  0.10323075+0.j],\n",
      "       [ 0.1747583 +0.j,  0.09668732+0.j, -0.15751428+0.j,\n",
      "        -0.06021182+0.j,  0.0664453 +0.j,  0.19606376+0.j],\n",
      "       [ 0.19103384+0.j,  0.10223455+0.j, -0.26735819+0.j,\n",
      "        -0.18302254+0.j, -0.14613828+0.j, -0.01093306+0.j],\n",
      "       [ 0.30864422+0.j,  0.32455583+0.j,  0.281354  +0.j,\n",
      "         0.33230442+0.j, -0.03723557+0.j, -0.36967755+0.j],\n",
      "       [ 0.37336347+0.j,  0.37058908+0.j,  0.52093712+0.j,\n",
      "        -0.32343689+0.j, -0.03427508+0.j, -0.13544691+0.j]]))\n"
     ]
    }
   ],
   "metadata": {}
  },
  {
   "cell_type": "code",
   "execution_count": 7,
   "source": [
    "print(eigs(webedu))"
   ],
   "outputs": [
    {
     "output_type": "stream",
     "name": "stdout",
     "text": [
      "(array([ 29.10263616+0.j,  20.00923476+0.j,  17.47705626+0.j,\n",
      "        16.00025561+0.j, -12.00894095+0.j,  14.00850185+0.j]), array([[-4.82693710e-04+0.j, -9.59452263e-04+0.j, -1.20745069e-02+0.j,\n",
      "         6.64594255e-04+0.j, -2.99159865e-03+0.j, -1.94370096e-04+0.j],\n",
      "       [-1.01946417e-04+0.j, -2.83808786e-04+0.j, -6.99110279e-03+0.j,\n",
      "         1.08114934e-03+0.j, -1.04650201e-03+0.j, -2.59914980e-04+0.j],\n",
      "       [-1.51268905e-03+0.j, -2.01747175e-03+0.j, -4.22770612e-02+0.j,\n",
      "         4.97524762e-03+0.j, -8.87920588e-03+0.j, -8.56952682e-04+0.j],\n",
      "       ...,\n",
      "       [-6.10643651e-07+0.j, -2.76357180e-06+0.j, -4.80856695e-05+0.j,\n",
      "         3.32541183e-06+0.j, -2.07297659e-05+0.j, -1.44108394e-06+0.j],\n",
      "       [-5.89493464e-08+0.j, -4.79818826e-07+0.j, -1.07419541e-05+0.j,\n",
      "         8.91891819e-07+0.j,  2.33623348e-06+0.j, -5.29384664e-07+0.j],\n",
      "       [-6.33960081e-07+0.j, -3.00559201e-06+0.j, -5.38975363e-05+0.j,\n",
      "         3.82694041e-06+0.j, -2.64101237e-05+0.j, -1.75221815e-06+0.j]]))\n"
     ]
    }
   ],
   "metadata": {}
  },
  {
   "cell_type": "code",
   "execution_count": 19,
   "source": [
    "eig_values, eig_vectors = eigs(internet)\n",
    "fiedler_pos = np.where(eig_values.real == np.sort(eig_values.real)[1])[0][0]\n",
    "fiedler_vector = np.transpose(eig_vectors)[fiedler_pos]\n",
    "print(\"Fiedler vector: \" + str(fiedler_vector.real))\n",
    "print(len(fiedler_vector))"
   ],
   "outputs": [
    {
     "output_type": "stream",
     "name": "stdout",
     "text": [
      "Fiedler vector: [ 1.99513184e-04 -3.96436080e-03  2.14999532e-03 ...  3.05131355e-05\n",
      "  9.56373299e-03  2.66593188e-04]\n",
      "40164\n"
     ]
    }
   ],
   "metadata": {}
  }
 ],
 "metadata": {
  "interpreter": {
   "hash": "916dbcbb3f70747c44a77c7bcd40155683ae19c65e1c03b4aa3499c5328201f1"
  },
  "kernelspec": {
   "name": "python3",
   "display_name": "Python 3.9.5 64-bit"
  },
  "language_info": {
   "codemirror_mode": {
    "name": "ipython",
    "version": 3
   },
   "file_extension": ".py",
   "mimetype": "text/x-python",
   "name": "python",
   "nbconvert_exporter": "python",
   "pygments_lexer": "ipython3",
   "version": "3.9.5"
  }
 },
 "nbformat": 4,
 "nbformat_minor": 5
}