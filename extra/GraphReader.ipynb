{
 "cells": [
  {
   "cell_type": "code",
   "execution_count": null,
   "metadata": {},
   "outputs": [],
   "source": [
    "import scipy as sp\n",
    "from scipy import sparse\n",
    "import networkx as nx\n",
    "from scipy.io import mmread\n",
    "from numpy import linalg as LA\n",
    "import numpy as np\n",
    "%load_ext memory_profiler\n",
    "karate = mmread('soc-karate.mtx').astype(np.int8).tocsr()\n",
    "webedu = mmread('web-edu.mtx').astype(np.int8).tocsr()\n",
    "internet = mmread('tech-internet-as.mtx').astype(np.int8).tocsr()"
   ]
  },
  {
   "cell_type": "code",
   "execution_count": null,
   "metadata": {},
   "outputs": [],
   "source": [
    "# G=nx.from_scipy_sparse_matrix(karate)\n",
    "#uncomment below to read internet graph instead\n",
    "G=nx.from_scipy_sparse_matrix(webedu)\n",
    "# G=nx.from_scipy_sparse_matrix(internet)\n",
    "A = nx.adjacency_matrix(G)\n",
    "L = nx.laplacian_matrix(G).astype(np.int8)\n",
    "karate.dtype"
   ]
  },
  {
   "cell_type": "code",
   "execution_count": null,
   "metadata": {},
   "outputs": [],
   "source": [
    "# display(A)\n",
    "# display(L)\n",
    "# print()\n",
    "# # display(G)\n",
    "# print(G)\n",
    "# # nx.draw(G, pos=nx.kamada_kawai_layout(G))"
   ]
  },
  {
   "cell_type": "code",
   "execution_count": null,
   "metadata": {},
   "outputs": [],
   "source": [
    "#return a dictionary of nodes with their degree centrality normalized with max possible degree in the graph\n",
    "nx.degree_centrality(G)"
   ]
  },
  {
   "cell_type": "code",
   "execution_count": null,
   "metadata": {},
   "outputs": [],
   "source": [
    "#return a dictionary of nodes with their closeness centrality normalized to (n-1)/(|g|-1), n=no. of connected nodes to certain node, g is entire graph\n",
    "nx.closeness_centrality(G)"
   ]
  },
  {
   "cell_type": "code",
   "execution_count": null,
   "metadata": {},
   "outputs": [],
   "source": [
    "nx.betweenness_centrality(G)"
   ]
  },
  {
   "cell_type": "code",
   "execution_count": null,
   "metadata": {},
   "outputs": [],
   "source": [
    "#ego centrality not found in nx, yet"
   ]
  },
  {
   "cell_type": "code",
   "execution_count": null,
   "metadata": {},
   "outputs": [],
   "source": [
    "nx.eigenvector_centrality(G)"
   ]
  },
  {
   "cell_type": "code",
   "execution_count": null,
   "metadata": {},
   "outputs": [],
   "source": [
    "#LFVC not found on nx\n",
    "def new_lfvc(G):\n",
    "    if not nx.is_connected(G): return \"Not possible\" \n",
    "    fiedler_vector = nx.fiedler_vector(G)\n",
    "    lfvclist = [sum((fiedler_vector[j]-fiedler_vector[i[0]])*(fiedler_vector[j]-fiedler_vector[i[0]]) for j in G.neighbors(i[0])) for i in G.nodes(data = True)]\n",
    "    return lfvclist\n",
    "new_lfvc(G)"
   ]
  },
  {
   "cell_type": "code",
   "execution_count": null,
   "metadata": {},
   "outputs": [],
   "source": [
    "nx.conductance(G,S:=(5,6)) #S can be a small iterable collection of nodes\n",
    "\n",
    "#The conductance is the quotient of the cut size and the smaller of the volumes of the two sets, in this case S and not S"
   ]
  },
  {
   "cell_type": "code",
   "execution_count": null,
   "metadata": {},
   "outputs": [],
   "source": [
    "#neighbourhood function not found"
   ]
  },
  {
   "cell_type": "markdown",
   "metadata": {},
   "source": [
    "## Computing eigenvalues of L:"
   ]
  },
  {
   "cell_type": "code",
   "execution_count": null,
   "metadata": {},
   "outputs": [],
   "source": [
    "# w, v = LA.eig(L.toarray())\n",
    "# a is eigenvalue, v is corresponding eigenvector\n",
    "# print(w.shape,v.shape)\n",
    "\n"
   ]
  },
  {
   "cell_type": "code",
   "execution_count": null,
   "metadata": {},
   "outputs": [],
   "source": [
    "#picking 2nd lowest value of eigenvector is kinda confusing. what to do after that???"
   ]
  },
  {
   "cell_type": "code",
   "execution_count": null,
   "metadata": {},
   "outputs": [],
   "source": [
    "#fielder vector:\n",
    "nx.fiedler_vector(G)"
   ]
  },
  {
   "cell_type": "code",
   "execution_count": null,
   "metadata": {},
   "outputs": [],
   "source": [
    "#edge LFVC and Node LFVC is still confusing."
   ]
  }
 ],
 "metadata": {
  "interpreter": {
   "hash": "7706d00cdb259a29e57d9bbde8b99a36ab5b874edc733f1acb2572848daa1ec1"
  },
  "kernelspec": {
   "display_name": "Python 3.9.6 64-bit",
   "name": "python3"
  },
  "language_info": {
   "codemirror_mode": {
    "name": "ipython",
    "version": 3
   },
   "file_extension": ".py",
   "mimetype": "text/x-python",
   "name": "python",
   "nbconvert_exporter": "python",
   "pygments_lexer": "ipython3",
   "version": "3.9.6"
  }
 },
 "nbformat": 4,
 "nbformat_minor": 5
}
